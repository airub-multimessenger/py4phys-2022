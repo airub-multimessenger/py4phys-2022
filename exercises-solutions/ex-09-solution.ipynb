{
 "cells": [
  {
   "attachments": {},
   "cell_type": "markdown",
   "metadata": {},
   "source": [
    "# Exercise sheet 9"
   ]
  },
  {
   "attachments": {},
   "cell_type": "markdown",
   "metadata": {},
   "source": [
    "## A simple particle detector"
   ]
  },
  {
   "attachments": {},
   "cell_type": "markdown",
   "metadata": {},
   "source": [
    "Consider a fictional particle detector built as a spherical volume of radius $R$. The events (particles) recorded by the detector have the following observables:\n",
    "- cartesian cordinates of the interaction vertex $(x,y,z)$ referenced to the center of the sphere;\n",
    "- direction of the particle, represented in the form of direction cosines $(d_x, d_y, d_z)$\n",
    "- reconstructed energy ($E_{rec}$);\n",
    "- relative detection time ($t$), for simplicity you can just use a float for this (although you have learned about proper timekeeping in the lecture).\n",
    "\n",
    "The detector is expected to record background events at a constant rate $r_b$. We want to simulate the detector background according to these (intuitive) properties:\n",
    "- uniform spatial distribution inside the detector volume;\n",
    "- uniform direction distribution;\n",
    "- uniform time distribution;\n",
    "- the true energy of the background particles ($E_b$) has a normal distribution with given mean $\\mu_{E_b}$ and standard deviation $\\sigma_{E_b}$;\n",
    "- due to the limited energy resolution of the detector (that we represent with a parameter $\\Delta E_{rec}$), a particle of energy $E_{true}$ will be reconstructed as having energy $E_{rec}$, where $E_{rec}$ follows a normal distribution with mean $E_{true}$ and standard deviation $\\Delta E_{rec} \\cdot E_{true}$.\n"
   ]
  },
  {
   "attachments": {},
   "cell_type": "markdown",
   "metadata": {},
   "source": [
    "### 1. The module\n",
    "Create a python module `detector.py` providing a class `Detector`.\n",
    "\n",
    "The class must provide a `generate_background()` method that takes as an argument a duration `T` (livetime) and returns a `numpy` array representing a sample of background events with time between `0` and `T`, having the properties described above. The columns of the array should represent the values introduced before:\n",
    "- `x`, `y`, `z`, `d_x`, `d_y`, `d_z`, `t`, `E_true`, `E_rec`.\n",
    "\n",
    "To make your code more tidy, group the properties of the background in a separate class, following this example skeleton code:"
   ]
  },
  {
   "attachments": {},
   "cell_type": "markdown",
   "metadata": {},
   "source": [
    "### Solution comments\n",
    "- How to determine the number of events in `generate_background`? For a given livetime `T` the expected number of events is `r_b * T` but the actual number will fluctuate. To be accurate, we need to draw the number of events from a Poisson distribution with mean `r_b * T`.\n",
    "- How to store the event data? Assuming we have `n_ev` events and `n_obs` attributes, we should create a numpy array of size `(n_ev, n_obs)`. This way we can access the j-th attribute of the i-th event with `arr[i,j]`. However, we need to keep track of which index represents a given property (for example `0` -> `x`). Luckily, numpy supports [structured array](https://numpy.org/doc/stable/user/basics.rec.html) which are very suitable to store tabular data."
   ]
  },
  {
   "cell_type": "code",
   "execution_count": 1,
   "metadata": {},
   "outputs": [],
   "source": [
    "# CODE HAS BEEN MOVED TO detector.py"
   ]
  },
  {
   "cell_type": "code",
   "execution_count": 2,
   "metadata": {},
   "outputs": [],
   "source": [
    "# After you have created your module, you should import the required symbols by activating the following line.\n",
    "from detector import Detector, BackgroundSource\n",
    "\n",
    "### TEST PARAMETERS ###\n",
    "radius = 30.0                   # m\n",
    "energy_resolution = 0.25\n",
    "\n",
    "background_rate = 10            # s^{-1}\n",
    "background_energy_mean  = 1    # MeV\n",
    "background_energy_sigma = 0.05 # MeV\n",
    "\n",
    "livetime = 10                # s\n",
    "\n",
    "### TEST ###\n",
    "bg = BackgroundSource(r_b = background_rate, mu_Eb = background_energy_mean, sigma_Eb = background_energy_sigma)\n",
    "\n",
    "det = Detector(R = radius, delta_Erec = energy_resolution, background_source = bg)\n",
    "\n",
    "background_sample = det.generate_background(livetime)\n",
    "\n",
    "#print(background_sample)"
   ]
  },
  {
   "attachments": {},
   "cell_type": "markdown",
   "metadata": {},
   "source": [
    "**Remember**: in most Jupyter installations you have to restart your kernel every time you make a modification to a module in order to run the updated code."
   ]
  },
  {
   "attachments": {},
   "cell_type": "markdown",
   "metadata": {},
   "source": [
    "### 2. The script\n",
    "Provide a script that generates a sample of background events of duration `T` and saves it to a file using the `numpy` builtin functionality. We take this chance to learn the basics of `argparse` to read arguments and options from the command line.\n",
    "\n",
    "Now take a look at the provided example `generate_events.py` script and modify it to provide the required functionality."
   ]
  },
  {
   "cell_type": "code",
   "execution_count": 3,
   "metadata": {},
   "outputs": [
    {
     "name": "stdout",
     "output_type": "stream",
     "text": [
      "Generating 86400.0 s of background events with mean energy 10.0.\n",
      "Saving data to `out.npy`.\n"
     ]
    }
   ],
   "source": [
    "# Try and run this from your terminal, without the starting `!`\n",
    "!python generate_events.py --background_energy 10.0 --output_file \"out.npy\" 86400\n",
    "# At the moment, this script does nothing aside from printing."
   ]
  },
  {
   "attachments": {},
   "cell_type": "markdown",
   "metadata": {},
   "source": [
    "Here `86400` is the value of the `livetime` positional argument, while `--background_energy` and `--output_file` are optional arguments. Check how the two are defined differently in `generate_events.py`."
   ]
  },
  {
   "attachments": {},
   "cell_type": "markdown",
   "metadata": {},
   "source": [
    "### Solution notes\n",
    "The choice of a text file as output format may not be the best, so instead of `numpy.savetxt()` we use `numpy.save()`."
   ]
  },
  {
   "attachments": {},
   "cell_type": "markdown",
   "metadata": {},
   "source": [
    "### 3. The benchmark\n",
    "In Jupyter, load the numpy file produced by your script and produce the following plots:\n",
    "- one scatter plot $E_{rec}$ vs $E_{true}$;\n",
    "- one histogram for each of the three spherical coordinates of the interaction vertices: radial distance ($\\rho$), zenithal angle ($\\theta$) and azimuthal angle ($\\phi$). You should calculate these coordinates from $(x, y, z)$. Plot also two additional histograms: one for $\\sin(\\phi)$ and one for $\\cos(\\theta)$. Make sure to choose appropriate ranges and number of bins for the histograms, do not leave them as defaults!\n",
    "- one histogram for each of the three direction cosines $(d_x, d_y, d_z)$;\n",
    "- one histogram for the distribution of the **time difference between any two consecutive events**. Calculate the mean time difference and mark it on the histogram. (Bonus questions: does this distribution look familiar to you? Does it have some relationship with the input parameters?)"
   ]
  },
  {
   "cell_type": "code",
   "execution_count": 4,
   "metadata": {},
   "outputs": [],
   "source": [
    "import numpy as np\n",
    "data = np.load(\"out.npy\")"
   ]
  },
  {
   "cell_type": "code",
   "execution_count": 5,
   "metadata": {},
   "outputs": [],
   "source": [
    "import matplotlib.pyplot as plt"
   ]
  },
  {
   "cell_type": "code",
   "execution_count": 6,
   "metadata": {},
   "outputs": [
    {
     "data": {
      "text/plain": [
       "(0.0, 20.0)"
      ]
     },
     "execution_count": 6,
     "metadata": {},
     "output_type": "execute_result"
    },
    {
     "data": {
      "image/png": "[encoded data removed]",
      "text/plain": [
       "<Figure size 288x288 with 1 Axes>"
      ]
     },
     "metadata": {
      "needs_background": "light"
     },
     "output_type": "display_data"
    }
   ],
   "source": [
    "fig, ax = plt.subplots(figsize=(4,4))\n",
    "# scatterplot with small size and semi-transparent markers\n",
    "ax.scatter(data[\"E_true\"], data[\"E_rec\"], s=0.01, alpha=0.1)\n",
    "ax.set_xlabel(r\"E$_{true}$\")\n",
    "ax.set_ylabel(r\"E$_{rec}$\")\n",
    "ax.set_xlim(7.5,12.5)\n",
    "ax.set_ylim(0,20)"
   ]
  },
  {
   "cell_type": "code",
   "execution_count": 7,
   "metadata": {},
   "outputs": [
    {
     "data": {
      "image/png": "[encoded data removed]",
      "text/plain": [
       "<Figure size 864x288 with 3 Axes>"
      ]
     },
     "metadata": {
      "needs_background": "light"
     },
     "output_type": "display_data"
    }
   ],
   "source": [
    "fig, axs = plt.subplots(1,3,figsize=(12,4))\n",
    "fig.tight_layout()\n",
    "\n",
    "x, y, z = data['x'], data['y'], data['z']\n",
    "\n",
    "rho = np.sqrt(x**2 + y**2 + z**2)\n",
    "theta = np.arctan2(np.hypot(x,y),z)\n",
    "phi = np.arctan2(y,x)\n",
    "\n",
    "\"\"\"\n",
    "- although we are not gonna use them, we still define auxiliary variable to \"catch\" the return values of hist() and set_xxx methods so they do not get printed by Jupyter\n",
    "- we use density=True when plotting histograms, it is usually a good practice to plot histograms as densities (so the result does not depend on the size of the input sample)\n",
    "\"\"\"\n",
    "\n",
    "ax = axs[0]\n",
    "\n",
    "H = ax.hist(rho, bins=30, range=(0,radius), density=True)\n",
    "_o = ax.set_xlabel(r\"$\\rho$\")\n",
    "_o = ax.set_ylabel(r\"dN / d$\\rho$\")\n",
    "\n",
    "ax = axs[1]\n",
    "H = ax.hist(theta, range=(0.0, np.pi), bins=30, density=True)\n",
    "_o = ax.set_xlabel(r\"$\\theta$\")\n",
    "_o = ax.set_ylabel(r\"dN / d$\\theta$\")\n",
    "\n",
    "ax = axs[2]\n",
    "H = ax.hist(phi, range=(-np.pi/2, np.pi/2), bins=30, density=True)\n",
    "_o = ax.set_xlabel(r\"$\\phi$\")\n",
    "_o = ax.set_ylabel(r\"dN / d$\\phi$\")"
   ]
  },
  {
   "attachments": {},
   "cell_type": "markdown",
   "metadata": {},
   "source": [
    "The distributions follow the size of the sperical volume element as a function of the three variables."
   ]
  },
  {
   "cell_type": "code",
   "execution_count": 8,
   "metadata": {},
   "outputs": [
    {
     "data": {
      "image/png": "[encoded data removed]",
      "text/plain": [
       "<Figure size 576x288 with 2 Axes>"
      ]
     },
     "metadata": {
      "needs_background": "light"
     },
     "output_type": "display_data"
    }
   ],
   "source": [
    "fig, axs = plt.subplots(1,2,figsize=(8,4))\n",
    "fig.tight_layout()\n",
    "\n",
    "ax = axs[0]\n",
    "H = ax.hist(np.cos(theta), range=(-1, 1), bins=30, density=True)\n",
    "_o = ax.set_xlabel(r\"cos($\\theta$)\")\n",
    "_o = ax.set_ylabel(r\"dN / d cos($\\theta$)\")\n",
    "\n",
    "ax = axs[1]\n",
    "H = ax.hist(np.sin(phi), range=(-1, 1), bins=30, density=True)\n",
    "_o = ax.set_xlabel(r\"sin($\\phi$)\")\n",
    "_o = ax.set_ylabel(r\"dN / d sin($\\phi$)\")"
   ]
  },
  {
   "attachments": {},
   "cell_type": "markdown",
   "metadata": {},
   "source": [
    "With an histogram in $\\cos(\\theta)$, we find back a uniform distribution. The histogram of $\\sin(\\phi)$ on the other hand is not very useful."
   ]
  },
  {
   "cell_type": "code",
   "execution_count": 9,
   "metadata": {},
   "outputs": [
    {
     "data": {
      "image/png": "[encoded data removed]",
      "text/plain": [
       "<Figure size 864x288 with 3 Axes>"
      ]
     },
     "metadata": {
      "needs_background": "light"
     },
     "output_type": "display_data"
    }
   ],
   "source": [
    "fig, axs = plt.subplots(1,3,figsize=(12,4))\n",
    "fig.tight_layout()\n",
    "\n",
    "vars = ['d_x', 'd_y', 'd_z']\n",
    "\n",
    "\"\"\"\n",
    "Sometimes it is convenient to produce plot with loops, rather than writing the one by one!\n",
    "\"\"\"\n",
    "\n",
    "for var, ax in zip(vars, axs):\n",
    "    H = ax.hist(data[var], density=True, range=(-1,1))\n",
    "    ax.set_xlabel(var)\n",
    "    ax.set_ylabel(f\"dN / {var}\")"
   ]
  },
  {
   "attachments": {},
   "cell_type": "markdown",
   "metadata": {},
   "source": [
    "All as expected!"
   ]
  },
  {
   "cell_type": "code",
   "execution_count": 10,
   "metadata": {},
   "outputs": [
    {
     "data": {
      "text/plain": [
       "<matplotlib.lines.Line2D at 0x7f674b8f4580>"
      ]
     },
     "execution_count": 10,
     "metadata": {},
     "output_type": "execute_result"
    },
    {
     "data": {
      "image/png": "[encoded data removed]",
      "text/plain": [
       "<Figure size 288x288 with 1 Axes>"
      ]
     },
     "metadata": {
      "needs_background": "light"
     },
     "output_type": "display_data"
    }
   ],
   "source": [
    "fig, ax = plt.subplots(figsize=(4,4))\n",
    "dt = data['t'][1:] - data['t'][:-1]\n",
    "H = ax.hist(dt, bins=30, density=True)\n",
    "ax.axvline(1/background_rate,linestyle='--', color='tab:red')"
   ]
  },
  {
   "attachments": {},
   "cell_type": "markdown",
   "metadata": {},
   "source": [
    "The time difference between consecutive events uniformly distributed in time is, in turn, an exponential variable with mean equal to the inverse of the rate!"
   ]
  },
  {
   "cell_type": "code",
   "execution_count": 11,
   "metadata": {},
   "outputs": [
    {
     "data": {
      "image/png": "[encoded data removed]",
      "text/plain": [
       "<Figure size 288x288 with 1 Axes>"
      ]
     },
     "metadata": {
      "needs_background": "light"
     },
     "output_type": "display_data"
    }
   ],
   "source": [
    "fig, ax = plt.subplots(figsize=(4,4))\n",
    "dt = data['t'][1:] - data['t'][:-1]\n",
    "H = ax.hist(dt, bins=30, density=True)\n",
    "ax.set_yscale('log')\n",
    "_o = ax.axvline(1/background_rate,linestyle='--', color='tab:red')"
   ]
  }
 ],
 "metadata": {
  "kernelspec": {
   "display_name": "astronomy",
   "language": "python",
   "name": "python3"
  },
  "language_info": {
   "codemirror_mode": {
    "name": "ipython",
    "version": 3
   },
   "file_extension": ".py",
   "mimetype": "text/x-python",
   "name": "python",
   "nbconvert_exporter": "python",
   "pygments_lexer": "ipython3",
   "version": "3.10.5"
  },
  "orig_nbformat": 4,
  "vscode": {
   "interpreter": {
    "hash": "a27840a7b1c12ed5c4097e0c82ce74f146693c21815a51f33b43828b75394333"
   }
  }
 },
 "nbformat": 4,
 "nbformat_minor": 2
}
