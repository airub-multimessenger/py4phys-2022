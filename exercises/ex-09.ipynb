{
 "cells": [
  {
   "attachments": {},
   "cell_type": "markdown",
   "metadata": {},
   "source": [
    "# Exercise sheet 9\n",
    "### Due 21/01/2023, 14:00 \n",
    "- Name 1\n",
    "- Name 2\n",
    "- Name 3"
   ]
  },
  {
   "attachments": {},
   "cell_type": "markdown",
   "metadata": {},
   "source": [
    "## A simple particle detector"
   ]
  },
  {
   "attachments": {},
   "cell_type": "markdown",
   "metadata": {},
   "source": [
    "Consider a fictional particle detector built as a spherical volume of radius $R$. The events (particles) recorded by the detector have the following observables:\n",
    "- cartesian cordinates of the interaction vertex $(x,y,z)$ referenced to the center of the sphere;\n",
    "- direction of the particle, represented in the form of direction cosines $(d_x, d_y, d_z)$\n",
    "- reconstructed energy ($E_{rec}$);\n",
    "- relative detection time ($t$), for simplicity you can just use a float for this (although you have learned about proper timekeeping in the lecture).\n",
    "\n",
    "The detector is expected to record background events at a constant rate $r_b$. We want to simulate the detector background according to these (intuitive) properties:\n",
    "- uniform spatial distribution inside the detector volume;\n",
    "- uniform direction distribution;\n",
    "- uniform time distribution;\n",
    "- the true energy of the background particles ($E_b$) has a normal distribution with given mean $\\mu_{E_b}$ and standard deviation $\\sigma_{E_b}$;\n",
    "- due to the limited energy resolution of the detector (that we represent with a parameter $\\Delta E_{rec}$), a particle of energy $E_{true}$ will be reconstructed as having energy $E_{rec}$, where $E_{rec}$ follows a normal distribution with mean $E$ and standard deviation $\\Delta E_{rec} \\cdot E_{true}$.\n"
   ]
  },
  {
   "attachments": {},
   "cell_type": "markdown",
   "metadata": {},
   "source": [
    "### 1. The module\n",
    "Create a python module `detector.py` providing a class `Detector`.\n",
    "\n",
    "The class must provide a `generate_background()` method that takes as an argument a duration `T` (livetime) and returns a `numpy` array representing a sample of background events with time between `0` and `T`, having the properties described above. The columns of the array should represent the values introduced before:\n",
    "- `x`, `y`, `z`, `d_x`, `d_y`, `d_z`, `t`, `E_true`, `E_rec`.\n",
    "\n",
    "To make your code more tidy, group the properties of the background in a separate class, following this example skeleton code:"
   ]
  },
  {
   "cell_type": "code",
   "execution_count": 1,
   "metadata": {},
   "outputs": [],
   "source": [
    "### \n",
    "### IMPORTANT\n",
    "### COMMENT OUT OR DELETE THIS CELL ONCE YOU HAVE CREATED YOUR MODULE WITH YOUR CODE IN THERE!\n",
    "###\n",
    "\n",
    "class BackgroundSource:\n",
    "    def __init__(self, r_b : float, mu_Eb : float, sigma_Eb: float):\n",
    "        # YOUR CODE HERE\n",
    "        pass\n",
    "    # MORE CODE HERE, IF NECESSARY\n",
    "\n",
    "class Detector:\n",
    "    def __init__(self, R : float, delta_Erec: float, background_source : BackgroundSource):\n",
    "        # YOUR CODE HERE\n",
    "        pass\n",
    "\n",
    "    def generate_background(self, T : int):\n",
    "        # YOUR CODE HERE\n",
    "        pass\n",
    "\n",
    "    # MORE CODE HERE, IF NECESSARY"
   ]
  },
  {
   "cell_type": "code",
   "execution_count": 2,
   "metadata": {},
   "outputs": [],
   "source": [
    "# After you have created your module, you should import the required symbols by activating the following line.\n",
    "# from detector import Detector, BackgroundSource\n",
    "\n",
    "### TEST PARAMETERS ###\n",
    "radius = 30.0                   # m\n",
    "energy_resolution = 0.25\n",
    "\n",
    "background_rate = 10            # s^{-1}\n",
    "background_energy_mean  = 1    # MeV\n",
    "background_energy_sigma = 0.05 # MeV\n",
    "\n",
    "livetime = 86400                # s\n",
    "\n",
    "### TEST ###\n",
    "bg = BackgroundSource(r_b = background_rate, mu_Eb = background_energy_mean, sigma_Eb = background_energy_sigma)\n",
    "\n",
    "det = Detector(R = radius, delta_Erec = energy_resolution, background_source = bg)\n",
    "\n",
    "background_sample = det.generate_background(livetime)"
   ]
  },
  {
   "attachments": {},
   "cell_type": "markdown",
   "metadata": {},
   "source": [
    "**Remember**: in most Jupyter installations you have to restart your kernel every time you make a modification to a module in order to run the updated code."
   ]
  },
  {
   "attachments": {},
   "cell_type": "markdown",
   "metadata": {},
   "source": [
    "### 2. The script\n",
    "Provide a script that generates a sample of background events of duration `T` and saves it to a file using the `numpy` builtin functionality. We take this chance to learn the basics of `argparse` to read arguments and options from the command line.\n",
    "\n",
    "Now take a look at the provided example `generate_events.py` script and modify it to provide the required functionality."
   ]
  },
  {
   "cell_type": "code",
   "execution_count": 3,
   "metadata": {},
   "outputs": [
    {
     "name": "stdout",
     "output_type": "stream",
     "text": [
      "Generating 86400.0 s of background events with mean energy 10.0.\n",
      "Saving data to `out.txt`.\n"
     ]
    }
   ],
   "source": [
    "# Try and run this from your terminal, without the starting `!`\n",
    "!python generate_events.py --background_energy 10.0 --output_file \"out.txt\" 86400\n",
    "# At the moment, this script does nothing aside from printing."
   ]
  },
  {
   "attachments": {},
   "cell_type": "markdown",
   "metadata": {},
   "source": [
    "Here `86400` is the value of the `livetime` positional argument, while `--background_energy` and `--output_file` are optional arguments. Check how the two are defined differently in `generate_events.py`."
   ]
  },
  {
   "attachments": {},
   "cell_type": "markdown",
   "metadata": {},
   "source": [
    "### 3. The benchmark\n",
    "In Jupyter, load the numpy file produced by your script and produce the following plots:\n",
    "- one scatter plot $E_{rec}$ vs $E_{true}$;\n",
    "- one histogram for each of the three spherical coordinates of the interaction vertices: radial distance ($\\rho$), zenithal angle ($\\theta$) and azimuthal angle ($\\phi$). You should calculate these coordinates from $(x, y, z)$. Plot also two additional histograms: one for $\\sin(\\phi)$ and one for $\\cos(\\theta)$. Make sure to choose appropriate ranges and number of bins for the histograms, do not leave them as defaults!\n",
    "- one histogram for each of the three direction cosines $(d_x, d_y, d_z)$;\n",
    "- one histogram for the distribution of the **time difference between any two consecutive events**. Calculate the mean time difference and mark it on the histogram. (Bonus questions: does this distribution look familiar to you? Does it have some relationship with the input parameters?)"
   ]
  },
  {
   "cell_type": "code",
   "execution_count": null,
   "metadata": {},
   "outputs": [],
   "source": []
  }
 ],
 "metadata": {
  "kernelspec": {
   "display_name": "Python 3",
   "language": "python",
   "name": "python3"
  },
  "language_info": {
   "codemirror_mode": {
    "name": "ipython",
    "version": 3
   },
   "file_extension": ".py",
   "mimetype": "text/x-python",
   "name": "python",
   "nbconvert_exporter": "python",
   "pygments_lexer": "ipython3",
   "version": "3.10.6"
  },
  "orig_nbformat": 4,
  "vscode": {
   "interpreter": {
    "hash": "2549115f32c44c7a8b5a7e02bed83e0a52b02d36b801495d26c408aeeebb7054"
   }
  }
 },
 "nbformat": 4,
 "nbformat_minor": 2
}
