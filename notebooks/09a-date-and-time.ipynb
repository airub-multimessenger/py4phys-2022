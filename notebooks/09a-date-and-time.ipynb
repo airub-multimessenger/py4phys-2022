{
 "cells": [
  {
   "attachments": {},
   "cell_type": "markdown",
   "metadata": {},
   "source": [
    "# Date and time"
   ]
  },
  {
   "attachments": {},
   "cell_type": "markdown",
   "metadata": {},
   "source": [
    "Representing **time** is very important in science but also a challenging objective to achieve consistently.\n",
    "\n",
    "Need to define:\n",
    "- range: what is the longest timespan we have to cover? Maybe the age of the universe... ~14e9 yr.\n",
    "- precision/accuracy: what is the shortest timescale we need to represent? Physics experiments often go down to sub-nanosecond accuracy, maybe picoseconds!\n",
    "\n",
    "Remember when we talked about floating point numbers: big numbers and high resolution do not go well together!"
   ]
  },
  {
   "attachments": {},
   "cell_type": "markdown",
   "metadata": {},
   "source": [
    "## Timing matters\n",
    "There are different \"sources\" for what the current time is:\n",
    "- **Universal Coordinated Time** (UTC): is the standard, universal, official time reference. It is not strictly linear: leap seconds are added to compensate for the slowing in the Earth rotation. The day where the leap second is added, the time goes up to `23:59:60`).\n",
    "- **Temps Atomique International** (TAI) is the actual instrumental time, as measured by atomic clocks. It has no notion of leap seconds so it is always ahead. The `TAI - UTC` difference gives the current number of leap seconds (37). At some point in the far-far future, TAI will be midnight and UTC will be noon (or maybe not, it seems metrologists are abandoning the leap seconds).\n",
    "- **GPS - Global Positioning System** has its zero on the UTC time at 1980-01-06, so it has a different and fixed number of leap seconds compared to UTC.\n",
    "\n",
    "Note: GPS is the most common way to get a reasonably accurate time reference at any surface location, requiring just some relatively inexpensive hardware. A computer usually uses NTP (Network Time Protocol) over the Internet, although the network latency can cause small inaccuracies (tens of ms level).\n",
    "\n",
    "### Summary\n",
    "- `TAI - UTC` = 37 leap seconds as of today.\n",
    "- `TAI - GPS` = 19 leap seconds at 1980, January 6th.\n",
    "- `GPS - UTC` = 18 leap seconds as of today.\n",
    "\n"
   ]
  },
  {
   "attachments": {},
   "cell_type": "markdown",
   "metadata": {},
   "source": [
    "### The UNIX way"
   ]
  },
  {
   "attachments": {},
   "cell_type": "markdown",
   "metadata": {},
   "source": [
    "- UNIX systems traditionally represent the UTC time in number of seconds since 01-01-1970 using one integer (32 bits).\n",
    "- Where do leap seconds (e.g. 23:59:60) go? They are cannot be represented in a UNIX timestamp, this means any time a leap second occurs, two \"physical\" seconds will have the same timestamp. Physics experiment need to deal carefully with these situations!\n",
    "- 32 bits would only cover the time up to 2038, so modern computers use 64 bits!"
   ]
  },
  {
   "attachments": {},
   "cell_type": "markdown",
   "metadata": {},
   "source": [
    "### How to represent decimal times?\n",
    "We can use two values. Let's write a small `Timestamp` class."
   ]
  },
  {
   "cell_type": "code",
   "execution_count": null,
   "metadata": {},
   "outputs": [],
   "source": [
    "class Timestamp:\n",
    "    def __init__(self, s : int, ns : int):\n",
    "        self.s = s\n",
    "        self.ns = ns\n",
    "\n",
    "    def __str__(self):\n",
    "        return f\"{self.s}.{self.ns:8d}\""
   ]
  },
  {
   "cell_type": "code",
   "execution_count": null,
   "metadata": {},
   "outputs": [],
   "source": [
    "TSTAMP = 1673608072 # A UNIX timestamp reasonably near to present time.\n",
    "\n",
    "t = Timestamp(TSTAMP, 100000001) \n",
    "print(t)"
   ]
  },
  {
   "attachments": {},
   "cell_type": "markdown",
   "metadata": {},
   "source": [
    "With a bit of additional methods, this could be an excellent way to represent a very accurate time on a large time scale (especially if using 64 bit integers). In fact this is what the ROOT (C++) Data Analysis framework of CERN uses for their `TTimeStamp` class)."
   ]
  },
  {
   "attachments": {},
   "cell_type": "markdown",
   "metadata": {},
   "source": [
    "### The `python` way"
   ]
  },
  {
   "cell_type": "code",
   "execution_count": null,
   "metadata": {},
   "outputs": [],
   "source": [
    "import datetime as _datetime \n",
    "# we shall alias it as _datetime because for all practical purposes we will do `import datetime from datetime` later!"
   ]
  },
  {
   "cell_type": "code",
   "execution_count": null,
   "metadata": {},
   "outputs": [],
   "source": [
    "a = _datetime.date(year=2023, month=1, day=1)\n",
    "b = _datetime.time(hour=14, minute=0, second=0, microsecond=int(1e5))\n",
    "c = _datetime.time(hour=14, minute=0, second=0, microsecond=0)\n",
    "print(a, b)"
   ]
  },
  {
   "cell_type": "code",
   "execution_count": null,
   "metadata": {},
   "outputs": [],
   "source": [
    "# We cannot do arithmetics with `time` objects. After all, a time object does not have a date, hence the difference between two times is undefined.\n",
    "# d = b-c"
   ]
  },
  {
   "attachments": {},
   "cell_type": "markdown",
   "metadata": {},
   "source": [
    "For all practical purposes, the `datetime` class combines date and time:"
   ]
  },
  {
   "cell_type": "code",
   "execution_count": null,
   "metadata": {},
   "outputs": [],
   "source": [
    "from datetime import datetime\n",
    "c = datetime(year=2023, month=1, day=1, hour=14, minute=0, second=0, microsecond=0)\n",
    "d = datetime(year=2023, month=1, day=1, hour=14, minute=0, second=0, microsecond=int(1e5))\n",
    "\n",
    "diff = d-c\n",
    "\n",
    "print(type(diff), diff)"
   ]
  },
  {
   "attachments": {},
   "cell_type": "markdown",
   "metadata": {},
   "source": [
    "The `timedelta` class provides a way to represent time differences:"
   ]
  },
  {
   "cell_type": "code",
   "execution_count": null,
   "metadata": {},
   "outputs": [],
   "source": [
    "from datetime import  timedelta\n",
    "\n",
    "c = datetime(year=2023, month=1, day=1, hour=14, minute=0, second=0, microsecond=0)\n",
    "\n",
    "times = []\n",
    "for delta in range(10):\n",
    "    times.append(c + timedelta(microseconds=delta * int(1e5)))\n",
    "\n",
    "for time in times:\n",
    "    print(time)"
   ]
  },
  {
   "attachments": {},
   "cell_type": "markdown",
   "metadata": {},
   "source": [
    "We can get the current time from the computer RTC (real time clock):"
   ]
  },
  {
   "cell_type": "code",
   "execution_count": null,
   "metadata": {},
   "outputs": [],
   "source": [
    "t = datetime.utcnow()\n",
    "\n",
    "print(t)"
   ]
  },
  {
   "attachments": {},
   "cell_type": "markdown",
   "metadata": {},
   "source": [
    "We can also create an object from the UNIX timestamp we have used before:"
   ]
  },
  {
   "cell_type": "code",
   "execution_count": null,
   "metadata": {},
   "outputs": [],
   "source": [
    "u = datetime.utcfromtimestamp(TSTAMP)\n",
    "print(u)"
   ]
  },
  {
   "attachments": {},
   "cell_type": "markdown",
   "metadata": {},
   "source": [
    "### The `numpy` way"
   ]
  },
  {
   "attachments": {},
   "cell_type": "markdown",
   "metadata": {},
   "source": [
    "The python `datetime` class is quite versatile, but is not really meant for scientific computing. In fact, it does not support arrays or sub-microsecond accuracy. `numpy` has reimplemented it with `datetime64`."
   ]
  },
  {
   "cell_type": "code",
   "execution_count": null,
   "metadata": {},
   "outputs": [],
   "source": [
    "import numpy as np\n",
    "\n",
    "# Creating a datetime64 object. The passed arguments define a time referenced to the start of the UNIX timestamp (1/1/1970).\n",
    "\n",
    "a = np.datetime64(53, 'Y') \n",
    "\n",
    "print(a)"
   ]
  },
  {
   "attachments": {},
   "cell_type": "markdown",
   "metadata": {},
   "source": [
    "A more convenient way to create such an item, is using an ISO 8601 string:"
   ]
  },
  {
   "cell_type": "code",
   "execution_count": null,
   "metadata": {},
   "outputs": [],
   "source": [
    "b = np.datetime64('2023-01-13T14:00')\n",
    "print(b)"
   ]
  },
  {
   "attachments": {},
   "cell_type": "markdown",
   "metadata": {},
   "source": [
    "We can also use decimal numbers up to nanoseconds:"
   ]
  },
  {
   "cell_type": "code",
   "execution_count": null,
   "metadata": {},
   "outputs": [],
   "source": [
    "d = np.datetime64(\"1999-01-01T00:00:00.123456789\")\n",
    "print(d)"
   ]
  },
  {
   "attachments": {},
   "cell_type": "markdown",
   "metadata": {},
   "source": [
    "### Notes\n",
    "- The `numpy.datetime64` can be used in numpy arrays and is therefore more efficient for scientific computing;\n",
    "- There will be some cases in which you need to deal with a large number of time values spanning for months of years, in such cases it is a good practice to use a dedicated time format such as `numpy.datetime64`;\n",
    "- However, if your experimental data only span a few hours or days, it may be more convenient to define your own custom \"zero time\" and use a floating point number (but be careful to check that the accuracy is more than sufficient) for the number of seconds.\n",
    "- **Unfortunately, there is no standard.**: `python`, `numpy`, `astropy` and `pandas` have all their own time/timestamp format. For science, `astropy.time` is even more sophisticated than `numpy.datetime64`. Note also that `JSON` does not support writing (serialization) of timestamp out of the box, to save timestamps in a text format you need to define your own (or use an ISO-like as in \"1999-01-01T00:00:00.123456789\")."
   ]
  },
  {
   "attachments": {},
   "cell_type": "markdown",
   "metadata": {},
   "source": []
  }
 ],
 "metadata": {
  "kernelspec": {
   "display_name": "astronomy",
   "language": "python",
   "name": "python3"
  },
  "language_info": {
   "codemirror_mode": {
    "name": "ipython",
    "version": 3
   },
   "file_extension": ".py",
   "mimetype": "text/x-python",
   "name": "python",
   "nbconvert_exporter": "python",
   "pygments_lexer": "ipython3",
   "version": "3.10.5"
  },
  "orig_nbformat": 4,
  "vscode": {
   "interpreter": {
    "hash": "a27840a7b1c12ed5c4097e0c82ce74f146693c21815a51f33b43828b75394333"
   }
  }
 },
 "nbformat": 4,
 "nbformat_minor": 2
}
