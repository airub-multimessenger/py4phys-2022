{
 "cells": [
  {
   "attachments": {},
   "cell_type": "markdown",
   "metadata": {},
   "source": [
    "# Organizing your code!"
   ]
  },
  {
   "attachments": {},
   "cell_type": "markdown",
   "metadata": {},
   "source": [
    "Pitfalls of Jupyter-base development:\n",
    "- no separation between the code implementation (i.e. a class) and its use (i.e. an analysis using that class);\n",
    "- mixups between global and local variables can lead to unintended consequences!\n",
    "- Jupyter allows cells to be executed in ***any order*** and it's hard to keep track of what the program is doing: you may have the impression that everything works but once you reset the program and try to execute it in a **linear** fashion it breaks!"
   ]
  },
  {
   "attachments": {},
   "cell_type": "markdown",
   "metadata": {},
   "source": [
    "## Modules\n",
    "- a **module** is a plaintext file containing python code;\n",
    "- a module is named `module.py` where \"module\" should be something descriptive;\n",
    "- modules are often organized in **packages**, but packaging is too articulated to be covered here.\n",
    "- a module is invoked with the `import` statement."
   ]
  },
  {
   "cell_type": "markdown",
   "metadata": {},
   "source": [
    "## Example: a random number generator"
   ]
  },
  {
   "attachments": {},
   "cell_type": "markdown",
   "metadata": {},
   "source": [
    "We have learned to use `numpy.random` in a basic way, but we can improve on that. In fact, the current recommended usage does not involve calling `numpy.random` directly but rather instantiating a random number generator object, i.e.:\n",
    "\n",
    "```python\n",
    "rng = np.random.default_rng(seed)\n",
    "```\n",
    "\n",
    "As an example, we will write a \"wrapper class\", a class that \"wraps around\" existing functionality to make it more convenient for us."
   ]
  },
  {
   "cell_type": "code",
   "execution_count": 1,
   "metadata": {},
   "outputs": [],
   "source": [
    "import numpy as np\n",
    "\n",
    "class RNG:\n",
    "    def __init__(self, seed : int = 0):\n",
    "        self.rng = np.random.default_rng(seed=seed)\n",
    "\n",
    "    def generate(self, shape : tuple = None):\n",
    "        # this is a bit dumb because it only replicates the behaviour of random()\n",
    "        # but this is just meant as an example\n",
    "        if shape is not None:\n",
    "            return self.rng.random(shape)\n",
    "        else:\n",
    "            return self.rng.random()"
   ]
  },
  {
   "cell_type": "code",
   "execution_count": 2,
   "metadata": {},
   "outputs": [
    {
     "data": {
      "text/plain": [
       "array([0.69773622, 0.31381427, 0.1211971 , 0.32359152, 0.93121187,\n",
       "       0.78966731, 0.01001912, 0.19893322, 0.29311369, 0.94341571])"
      ]
     },
     "execution_count": 2,
     "metadata": {},
     "output_type": "execute_result"
    }
   ],
   "source": [
    "rand = RNG(seed=27)\n",
    "\n",
    "rand.generate(10)"
   ]
  },
  {
   "attachments": {},
   "cell_type": "markdown",
   "metadata": {},
   "source": [
    "## Creating a module!"
   ]
  },
  {
   "attachments": {},
   "cell_type": "markdown",
   "metadata": {},
   "source": [
    "- Now move the content of the cell containing the RNG definition to a separate file under `modules/utils.py`!\n",
    "- Comment out the cell content and import from the file."
   ]
  },
  {
   "cell_type": "code",
   "execution_count": 3,
   "metadata": {},
   "outputs": [],
   "source": [
    "from modules.utils import RNG\n",
    "\n",
    "rand = RNG(seed=55)"
   ]
  },
  {
   "cell_type": "code",
   "execution_count": 4,
   "metadata": {},
   "outputs": [
    {
     "data": {
      "text/plain": [
       "0.8322521834549506"
      ]
     },
     "execution_count": 4,
     "metadata": {},
     "output_type": "execute_result"
    }
   ],
   "source": [
    "rand.generate()"
   ]
  },
  {
   "attachments": {},
   "cell_type": "markdown",
   "metadata": {},
   "source": [
    "## `import` HOWTO"
   ]
  },
  {
   "cell_type": "code",
   "execution_count": 5,
   "metadata": {},
   "outputs": [],
   "source": [
    "# 0. Imports all symbols from a module, popular in the past but now DEPRECATED \n",
    "\n",
    "from modules.utils import *\n",
    "\n",
    "b = RNG()"
   ]
  },
  {
   "attachments": {},
   "cell_type": "markdown",
   "metadata": {},
   "source": [
    "**Don't do that.** Why not? Because you do not have control about which symbols will be imported into your scope (possibly overriding existing ones). Also not very efficient. Here are two good way of doing this:"
   ]
  },
  {
   "cell_type": "code",
   "execution_count": 6,
   "metadata": {},
   "outputs": [],
   "source": [
    "# 1. Import  a one or more symbols from a module with (optionally) an alias.\n",
    "\n",
    "from modules.utils import DEFAULT_SEED, RNG as random_number_generator\n",
    "\n",
    "a = random_number_generator()"
   ]
  },
  {
   "cell_type": "code",
   "execution_count": 7,
   "metadata": {},
   "outputs": [],
   "source": [
    "# 2. Import a reference to the module (with optional alias) and access its symbols with the '.' operator.\n",
    "import modules.utils as random_utils\n",
    "c = random_utils.RNG()\n",
    "# Similar to `import numpy as np`"
   ]
  },
  {
   "attachments": {},
   "cell_type": "markdown",
   "metadata": {},
   "source": [
    "## Packages"
   ]
  },
  {
   "attachments": {},
   "cell_type": "markdown",
   "metadata": {},
   "source": [
    "A **package** like `numpy` is a collection of modules. The package `numpy` provides the `numpy` module, that provides some basic functionality. Some features of `numpy` are accessible through other modules provided by the same package."
   ]
  },
  {
   "cell_type": "code",
   "execution_count": 8,
   "metadata": {},
   "outputs": [
    {
     "name": "stdout",
     "output_type": "stream",
     "text": [
      "<class 'module'>\n",
      "<class 'type'>\n",
      "<class 'builtin_function_or_method'>\n",
      "<class 'module'>\n",
      "<class 'builtin_function_or_method'>\n"
     ]
    }
   ],
   "source": [
    "import numpy\n",
    "\n",
    "# This is the main module of the package.\n",
    "print(type(numpy))\n",
    "# These are symbols contained in the main module.\n",
    "print(type(numpy.ndarray))\n",
    "print(type(numpy.array))\n",
    "# This is a module accessible through the main module.\n",
    "print(type(numpy.random))\n",
    "# This is a symbol contained in the previous.\n",
    "print(type(numpy.random.random))"
   ]
  },
  {
   "attachments": {},
   "cell_type": "markdown",
   "metadata": {},
   "source": [
    "The way a package makes accessible its functionality through is main module is based on a chain of `import` statements. Be aware that there may be some differences across packages!"
   ]
  },
  {
   "attachments": {},
   "cell_type": "markdown",
   "metadata": {},
   "source": [
    "Packages that are installable through `pip install package_name` are published at [pypi](https://pypi.org/)! You may also learn how to write your own private package and install it locally..."
   ]
  },
  {
   "attachments": {},
   "cell_type": "markdown",
   "metadata": {},
   "source": [
    "### Best practices\n",
    "- never use `import *`\n",
    "- if you plan to use only a few items from the module in specific places, use `from module import class as class_alias`;\n",
    "- if you plan to use many features all the time, import the module with a short alias `import numpy as np`;\n",
    "- you may store \"constants\" in modules but try not to store variables!.\n",
    "\n",
    "### Note\n",
    "`import` executes all the code from the module file! The easter egg module (`this`) we have experienced at the beginning shows exactly what a module should not do..."
   ]
  },
  {
   "cell_type": "code",
   "execution_count": 9,
   "metadata": {},
   "outputs": [
    {
     "name": "stdout",
     "output_type": "stream",
     "text": [
      "The Zen of Python, by Tim Peters\n",
      "\n",
      "Beautiful is better than ugly.\n",
      "Explicit is better than implicit.\n",
      "Simple is better than complex.\n",
      "Complex is better than complicated.\n",
      "Flat is better than nested.\n",
      "Sparse is better than dense.\n",
      "Readability counts.\n",
      "Special cases aren't special enough to break the rules.\n",
      "Although practicality beats purity.\n",
      "Errors should never pass silently.\n",
      "Unless explicitly silenced.\n",
      "In the face of ambiguity, refuse the temptation to guess.\n",
      "There should be one-- and preferably only one --obvious way to do it.\n",
      "Although that way may not be obvious at first unless you're Dutch.\n",
      "Now is better than never.\n",
      "Although never is often better than *right* now.\n",
      "If the implementation is hard to explain, it's a bad idea.\n",
      "If the implementation is easy to explain, it may be a good idea.\n",
      "Namespaces are one honking great idea -- let's do more of those!\n"
     ]
    }
   ],
   "source": [
    "import this "
   ]
  },
  {
   "attachments": {},
   "cell_type": "markdown",
   "metadata": {},
   "source": [
    "# Our first script..."
   ]
  },
  {
   "attachments": {},
   "cell_type": "markdown",
   "metadata": {},
   "source": [
    "To show the usefullness of modules, we want now to use the class we have written in a python **script** that we can execute outside of Jupyter.\n",
    "\n",
    "The way we write a script is creating a file such as `script.py` and defining a `main()` function to call in the body of the script as in the following:\n",
    "```python\n",
    "def main():\n",
    "    pass\n",
    "\n",
    "if __name__ == \"__main__\":\n",
    "    main()    \n",
    "```\n",
    "\n",
    "The `if(__name__) == \"__main__\"` guard statement is required to ensure that `main()` is called only when if file is run as a script! Sometimes, the same file could be imported as a module or run as a script, alternatively. (Thanks to the student who pointed this out in class!)\n"
   ]
  },
  {
   "attachments": {},
   "cell_type": "markdown",
   "metadata": {},
   "source": [
    "Take a look at `simple_script.py` for an example script using the RNG class. You can launch it by running `python simple_script.py` from your console. Alternatively, we can invoke it in Jupyter:"
   ]
  },
  {
   "cell_type": "code",
   "execution_count": 10,
   "metadata": {},
   "outputs": [
    {
     "name": "stdout",
     "output_type": "stream",
     "text": [
      "[0.95600171 0.20768181 0.82844489 0.14928212 0.51280462 0.1359196\n",
      " 0.68903648 0.84174772 0.425509   0.956926  ]\n"
     ]
    }
   ],
   "source": [
    "# This command does not use the python interpreter internal to Jupyter but rather \"invokes\" the `python` interpreter of the underlying system!\n",
    "!python simple_script.py"
   ]
  },
  {
   "attachments": {},
   "cell_type": "markdown",
   "metadata": {},
   "source": [
    "We can also test the `main()` function of the script inside Jupyter, effectively using the script file as a module!"
   ]
  },
  {
   "cell_type": "code",
   "execution_count": 11,
   "metadata": {},
   "outputs": [],
   "source": [
    "from simple_script import main as script_main # better use an alias as main is a very common name!"
   ]
  },
  {
   "cell_type": "code",
   "execution_count": 12,
   "metadata": {},
   "outputs": [
    {
     "name": "stdout",
     "output_type": "stream",
     "text": [
      "[0.95600171 0.20768181 0.82844489 0.14928212 0.51280462 0.1359196\n",
      " 0.68903648 0.84174772 0.425509   0.956926  ]\n"
     ]
    }
   ],
   "source": [
    "script_main()"
   ]
  }
 ],
 "metadata": {
  "kernelspec": {
   "display_name": "astronomy",
   "language": "python",
   "name": "python3"
  },
  "language_info": {
   "codemirror_mode": {
    "name": "ipython",
    "version": 3
   },
   "file_extension": ".py",
   "mimetype": "text/x-python",
   "name": "python",
   "nbconvert_exporter": "python",
   "pygments_lexer": "ipython3",
   "version": "3.10.5"
  },
  "orig_nbformat": 4,
  "vscode": {
   "interpreter": {
    "hash": "a27840a7b1c12ed5c4097e0c82ce74f146693c21815a51f33b43828b75394333"
   }
  }
 },
 "nbformat": 4,
 "nbformat_minor": 2
}
