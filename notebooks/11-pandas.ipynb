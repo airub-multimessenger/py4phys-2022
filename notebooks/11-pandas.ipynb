{
 "cells": [
  {
   "cell_type": "markdown",
   "metadata": {},
   "source": [
    "# Intro to pandas\n",
    "### 27/01/2023"
   ]
  },
  {
   "cell_type": "code",
   "execution_count": 398,
   "metadata": {},
   "outputs": [],
   "source": [
    "import numpy as np\n",
    "from matplotlib import pyplot as plt\n",
    "import pickle\n",
    "import pandas as pd                   # If you don't have pandas installed, open your terminal and do\n",
    "                                      # conda install -c conda-forge pickle"
   ]
  },
  {
   "cell_type": "markdown",
   "metadata": {
    "tags": []
   },
   "source": [
    "## Creating a pandas dataframe"
   ]
  },
  {
   "cell_type": "code",
   "execution_count": 379,
   "metadata": {},
   "outputs": [],
   "source": [
    "df = pd.read_csv(\"11-data.csv\")"
   ]
  },
  {
   "cell_type": "markdown",
   "metadata": {
    "tags": []
   },
   "source": [
    "## Peeking into your dataframe"
   ]
  },
  {
   "cell_type": "code",
   "execution_count": 380,
   "metadata": {},
   "outputs": [
    {
     "data": {
      "text/html": [
       "<div>\n",
       "<style scoped>\n",
       "    .dataframe tbody tr th:only-of-type {\n",
       "        vertical-align: middle;\n",
       "    }\n",
       "\n",
       "    .dataframe tbody tr th {\n",
       "        vertical-align: top;\n",
       "    }\n",
       "\n",
       "    .dataframe thead th {\n",
       "        text-align: right;\n",
       "    }\n",
       "</style>\n",
       "<table border=\"1\" class=\"dataframe\">\n",
       "  <thead>\n",
       "    <tr style=\"text-align: right;\">\n",
       "      <th></th>\n",
       "      <th>coord</th>\n",
       "      <th>z</th>\n",
       "      <th>M_black_hole</th>\n",
       "      <th>L_disk</th>\n",
       "      <th>magfield</th>\n",
       "    </tr>\n",
       "  </thead>\n",
       "  <tbody>\n",
       "    <tr>\n",
       "      <th>0</th>\n",
       "      <td>0422.1+0211</td>\n",
       "      <td>2.27</td>\n",
       "      <td>7.940000e+08</td>\n",
       "      <td>3.980000e+46</td>\n",
       "      <td>2.2</td>\n",
       "    </tr>\n",
       "    <tr>\n",
       "      <th>1</th>\n",
       "      <td>1133.1+0033</td>\n",
       "      <td>1.63</td>\n",
       "      <td>5.010000e+09</td>\n",
       "      <td>2.510000e+46</td>\n",
       "      <td>1.4</td>\n",
       "    </tr>\n",
       "    <tr>\n",
       "      <th>2</th>\n",
       "      <td>0011.3+0054</td>\n",
       "      <td>1.49</td>\n",
       "      <td>6.030000e+08</td>\n",
       "      <td>3.020000e+45</td>\n",
       "      <td>1.6</td>\n",
       "    </tr>\n",
       "    <tr>\n",
       "      <th>3</th>\n",
       "      <td>1014.1+2306</td>\n",
       "      <td>0.57</td>\n",
       "      <td>3.980000e+08</td>\n",
       "      <td>6.030000e+45</td>\n",
       "      <td>2.0</td>\n",
       "    </tr>\n",
       "    <tr>\n",
       "      <th>4</th>\n",
       "      <td>1040.7+0614</td>\n",
       "      <td>1.26</td>\n",
       "      <td>1.000000e+09</td>\n",
       "      <td>6.030000e+46</td>\n",
       "      <td>2.2</td>\n",
       "    </tr>\n",
       "  </tbody>\n",
       "</table>\n",
       "</div>"
      ],
      "text/plain": [
       "         coord     z  M_black_hole        L_disk  magfield\n",
       "0  0422.1+0211  2.27  7.940000e+08  3.980000e+46       2.2\n",
       "1  1133.1+0033  1.63  5.010000e+09  2.510000e+46       1.4\n",
       "2  0011.3+0054  1.49  6.030000e+08  3.020000e+45       1.6\n",
       "3  1014.1+2306  0.57  3.980000e+08  6.030000e+45       2.0\n",
       "4  1040.7+0614  1.26  1.000000e+09  6.030000e+46       2.2"
      ]
     },
     "execution_count": 380,
     "metadata": {},
     "output_type": "execute_result"
    }
   ],
   "source": [
    "df.head()"
   ]
  },
  {
   "cell_type": "code",
   "execution_count": 212,
   "metadata": {},
   "outputs": [
    {
     "data": {
      "text/html": [
       "<div>\n",
       "<style scoped>\n",
       "    .dataframe tbody tr th:only-of-type {\n",
       "        vertical-align: middle;\n",
       "    }\n",
       "\n",
       "    .dataframe tbody tr th {\n",
       "        vertical-align: top;\n",
       "    }\n",
       "\n",
       "    .dataframe thead th {\n",
       "        text-align: right;\n",
       "    }\n",
       "</style>\n",
       "<table border=\"1\" class=\"dataframe\">\n",
       "  <thead>\n",
       "    <tr style=\"text-align: right;\">\n",
       "      <th></th>\n",
       "      <th>coord</th>\n",
       "      <th>z</th>\n",
       "      <th>M_black_hole</th>\n",
       "      <th>L_disk</th>\n",
       "      <th>magfield</th>\n",
       "    </tr>\n",
       "  </thead>\n",
       "  <tbody>\n",
       "    <tr>\n",
       "      <th>318</th>\n",
       "      <td>2357.8-5310</td>\n",
       "      <td>1.01</td>\n",
       "      <td>7.080000e+08</td>\n",
       "      <td>1.700000e+46</td>\n",
       "      <td>1.9</td>\n",
       "    </tr>\n",
       "    <tr>\n",
       "      <th>319</th>\n",
       "      <td>2358.2-1022</td>\n",
       "      <td>1.64</td>\n",
       "      <td>2.000000e+09</td>\n",
       "      <td>5.010000e+46</td>\n",
       "      <td>2.2</td>\n",
       "    </tr>\n",
       "  </tbody>\n",
       "</table>\n",
       "</div>"
      ],
      "text/plain": [
       "           coord     z  M_black_hole        L_disk  magfield\n",
       "318  2357.8-5310  1.01  7.080000e+08  1.700000e+46       1.9\n",
       "319  2358.2-1022  1.64  2.000000e+09  5.010000e+46       2.2"
      ]
     },
     "execution_count": 212,
     "metadata": {},
     "output_type": "execute_result"
    }
   ],
   "source": [
    "df.tail(n=2)"
   ]
  },
  {
   "cell_type": "code",
   "execution_count": 383,
   "metadata": {},
   "outputs": [
    {
     "data": {
      "text/plain": [
       "320"
      ]
     },
     "execution_count": 383,
     "metadata": {},
     "output_type": "execute_result"
    }
   ],
   "source": [
    "len(df)"
   ]
  },
  {
   "cell_type": "code",
   "execution_count": 384,
   "metadata": {},
   "outputs": [
    {
     "data": {
      "text/plain": [
       "Index(['coord', 'z', 'M_black_hole', 'L_disk', 'magfield'], dtype='object')"
      ]
     },
     "execution_count": 384,
     "metadata": {},
     "output_type": "execute_result"
    }
   ],
   "source": [
    "df.columns"
   ]
  },
  {
   "cell_type": "markdown",
   "metadata": {},
   "source": [
    "By deafult, the first line of your CSV file is interpreted as the column names. But you can also name your columns yourself:"
   ]
  },
  {
   "cell_type": "code",
   "execution_count": 215,
   "metadata": {},
   "outputs": [
    {
     "data": {
      "text/html": [
       "<div>\n",
       "<style scoped>\n",
       "    .dataframe tbody tr th:only-of-type {\n",
       "        vertical-align: middle;\n",
       "    }\n",
       "\n",
       "    .dataframe tbody tr th {\n",
       "        vertical-align: top;\n",
       "    }\n",
       "\n",
       "    .dataframe thead th {\n",
       "        text-align: right;\n",
       "    }\n",
       "</style>\n",
       "<table border=\"1\" class=\"dataframe\">\n",
       "  <thead>\n",
       "    <tr style=\"text-align: right;\">\n",
       "      <th></th>\n",
       "      <th>XY</th>\n",
       "      <th>Z</th>\n",
       "      <th>MBH</th>\n",
       "      <th>LD</th>\n",
       "      <th>B</th>\n",
       "    </tr>\n",
       "  </thead>\n",
       "  <tbody>\n",
       "    <tr>\n",
       "      <th>0</th>\n",
       "      <td>coord</td>\n",
       "      <td>z</td>\n",
       "      <td>M_black_hole</td>\n",
       "      <td>L_disk</td>\n",
       "      <td>magfield</td>\n",
       "    </tr>\n",
       "    <tr>\n",
       "      <th>1</th>\n",
       "      <td>0422.1+0211</td>\n",
       "      <td>2.27</td>\n",
       "      <td>7.94e+08</td>\n",
       "      <td>3.98e+46</td>\n",
       "      <td>2.20</td>\n",
       "    </tr>\n",
       "    <tr>\n",
       "      <th>2</th>\n",
       "      <td>1133.1+0033</td>\n",
       "      <td>1.63</td>\n",
       "      <td>5.01e+09</td>\n",
       "      <td>2.51e+46</td>\n",
       "      <td>1.40</td>\n",
       "    </tr>\n",
       "    <tr>\n",
       "      <th>3</th>\n",
       "      <td>0011.3+0054</td>\n",
       "      <td>1.49</td>\n",
       "      <td>6.03e+08</td>\n",
       "      <td>3.02e+45</td>\n",
       "      <td>1.60</td>\n",
       "    </tr>\n",
       "    <tr>\n",
       "      <th>4</th>\n",
       "      <td>1014.1+2306</td>\n",
       "      <td>0.57</td>\n",
       "      <td>3.98e+08</td>\n",
       "      <td>6.03e+45</td>\n",
       "      <td>2.00</td>\n",
       "    </tr>\n",
       "  </tbody>\n",
       "</table>\n",
       "</div>"
      ],
      "text/plain": [
       "            XY      Z           MBH         LD         B\n",
       "0        coord      z  M_black_hole     L_disk  magfield\n",
       "1  0422.1+0211   2.27      7.94e+08   3.98e+46      2.20\n",
       "2  1133.1+0033   1.63      5.01e+09   2.51e+46      1.40\n",
       "3  0011.3+0054   1.49      6.03e+08   3.02e+45      1.60\n",
       "4  1014.1+2306   0.57      3.98e+08   6.03e+45      2.00"
      ]
     },
     "execution_count": 215,
     "metadata": {},
     "output_type": "execute_result"
    }
   ],
   "source": [
    "mynames = ['XY', 'Z', 'MBH', 'LD', 'B']\n",
    "df2 = pd.read_csv(\"11-data.csv\", names=mynames)\n",
    "df2.head()"
   ]
  },
  {
   "cell_type": "markdown",
   "metadata": {},
   "source": [
    "However, this way pandas interprets the first line as data and includes it as a line in your dataframe. In this case, we would loadthe table normally and rename the columns afterwards:"
   ]
  },
  {
   "cell_type": "code",
   "execution_count": 382,
   "metadata": {},
   "outputs": [
    {
     "data": {
      "text/html": [
       "<div>\n",
       "<style scoped>\n",
       "    .dataframe tbody tr th:only-of-type {\n",
       "        vertical-align: middle;\n",
       "    }\n",
       "\n",
       "    .dataframe tbody tr th {\n",
       "        vertical-align: top;\n",
       "    }\n",
       "\n",
       "    .dataframe thead th {\n",
       "        text-align: right;\n",
       "    }\n",
       "</style>\n",
       "<table border=\"1\" class=\"dataframe\">\n",
       "  <thead>\n",
       "    <tr style=\"text-align: right;\">\n",
       "      <th></th>\n",
       "      <th>XY</th>\n",
       "      <th>Z</th>\n",
       "      <th>MBH</th>\n",
       "      <th>LD</th>\n",
       "      <th>B</th>\n",
       "    </tr>\n",
       "  </thead>\n",
       "  <tbody>\n",
       "    <tr>\n",
       "      <th>0</th>\n",
       "      <td>0422.1+0211</td>\n",
       "      <td>2.27</td>\n",
       "      <td>7.940000e+08</td>\n",
       "      <td>3.980000e+46</td>\n",
       "      <td>2.2</td>\n",
       "    </tr>\n",
       "    <tr>\n",
       "      <th>1</th>\n",
       "      <td>1133.1+0033</td>\n",
       "      <td>1.63</td>\n",
       "      <td>5.010000e+09</td>\n",
       "      <td>2.510000e+46</td>\n",
       "      <td>1.4</td>\n",
       "    </tr>\n",
       "    <tr>\n",
       "      <th>2</th>\n",
       "      <td>0011.3+0054</td>\n",
       "      <td>1.49</td>\n",
       "      <td>6.030000e+08</td>\n",
       "      <td>3.020000e+45</td>\n",
       "      <td>1.6</td>\n",
       "    </tr>\n",
       "    <tr>\n",
       "      <th>3</th>\n",
       "      <td>1014.1+2306</td>\n",
       "      <td>0.57</td>\n",
       "      <td>3.980000e+08</td>\n",
       "      <td>6.030000e+45</td>\n",
       "      <td>2.0</td>\n",
       "    </tr>\n",
       "    <tr>\n",
       "      <th>4</th>\n",
       "      <td>1040.7+0614</td>\n",
       "      <td>1.26</td>\n",
       "      <td>1.000000e+09</td>\n",
       "      <td>6.030000e+46</td>\n",
       "      <td>2.2</td>\n",
       "    </tr>\n",
       "  </tbody>\n",
       "</table>\n",
       "</div>"
      ],
      "text/plain": [
       "            XY     Z           MBH            LD    B\n",
       "0  0422.1+0211  2.27  7.940000e+08  3.980000e+46  2.2\n",
       "1  1133.1+0033  1.63  5.010000e+09  2.510000e+46  1.4\n",
       "2  0011.3+0054  1.49  6.030000e+08  3.020000e+45  1.6\n",
       "3  1014.1+2306  0.57  3.980000e+08  6.030000e+45  2.0\n",
       "4  1040.7+0614  1.26  1.000000e+09  6.030000e+46  2.2"
      ]
     },
     "execution_count": 382,
     "metadata": {},
     "output_type": "execute_result"
    }
   ],
   "source": [
    "df3 = pd.read_csv(\"11-data.csv\")\n",
    "df3.columns = mynames\n",
    "df3.head()"
   ]
  },
  {
   "cell_type": "markdown",
   "metadata": {},
   "source": [
    "## Working with columns"
   ]
  },
  {
   "cell_type": "code",
   "execution_count": 92,
   "metadata": {},
   "outputs": [
    {
     "name": "stdout",
     "output_type": "stream",
     "text": [
      "0    2.27\n",
      "1    1.63\n",
      "2    1.49\n",
      "3    0.57\n",
      "4    1.26\n",
      "Name: z, dtype: float64\n"
     ]
    }
   ],
   "source": [
    "redshifts = df['z']\n",
    "print(redshifts.head())"
   ]
  },
  {
   "cell_type": "code",
   "execution_count": 94,
   "metadata": {},
   "outputs": [
    {
     "name": "stdout",
     "output_type": "stream",
     "text": [
      "(320,)\n"
     ]
    }
   ],
   "source": [
    "z_array = np.array(redshifts)\n",
    "print(z_array.shape)"
   ]
  },
  {
   "cell_type": "markdown",
   "metadata": {},
   "source": [
    "We can add columns to a dataframe in a way similar to dictionaries:"
   ]
  },
  {
   "cell_type": "code",
   "execution_count": 102,
   "metadata": {},
   "outputs": [
    {
     "data": {
      "text/html": [
       "<div>\n",
       "<style scoped>\n",
       "    .dataframe tbody tr th:only-of-type {\n",
       "        vertical-align: middle;\n",
       "    }\n",
       "\n",
       "    .dataframe tbody tr th {\n",
       "        vertical-align: top;\n",
       "    }\n",
       "\n",
       "    .dataframe thead th {\n",
       "        text-align: right;\n",
       "    }\n",
       "</style>\n",
       "<table border=\"1\" class=\"dataframe\">\n",
       "  <thead>\n",
       "    <tr style=\"text-align: right;\">\n",
       "      <th></th>\n",
       "      <th>coord</th>\n",
       "      <th>z</th>\n",
       "      <th>M_black_hole</th>\n",
       "      <th>L_disk</th>\n",
       "      <th>magfield</th>\n",
       "      <th>mag_density</th>\n",
       "    </tr>\n",
       "  </thead>\n",
       "  <tbody>\n",
       "    <tr>\n",
       "      <th>0</th>\n",
       "      <td>0422.1+0211</td>\n",
       "      <td>2.27</td>\n",
       "      <td>7.940000e+08</td>\n",
       "      <td>3.980000e+46</td>\n",
       "      <td>2.2</td>\n",
       "      <td>0.192577</td>\n",
       "    </tr>\n",
       "    <tr>\n",
       "      <th>1</th>\n",
       "      <td>1133.1+0033</td>\n",
       "      <td>1.63</td>\n",
       "      <td>5.010000e+09</td>\n",
       "      <td>2.510000e+46</td>\n",
       "      <td>1.4</td>\n",
       "      <td>0.077986</td>\n",
       "    </tr>\n",
       "  </tbody>\n",
       "</table>\n",
       "</div>"
      ],
      "text/plain": [
       "         coord     z  M_black_hole        L_disk  magfield  mag_density\n",
       "0  0422.1+0211  2.27  7.940000e+08  3.980000e+46       2.2     0.192577\n",
       "1  1133.1+0033  1.63  5.010000e+09  2.510000e+46       1.4     0.077986"
      ]
     },
     "execution_count": 102,
     "metadata": {},
     "output_type": "execute_result"
    }
   ],
   "source": [
    "b_array = np.array(df['magfield'])\n",
    "magdensity_array = b_array ** 2 / (8 * np.pi) # New array of values\n",
    "\n",
    "df[\"mag_density\"] = magdensity_array # Add it to the table as a new column\n",
    "\n",
    "df.head(2)"
   ]
  },
  {
   "cell_type": "markdown",
   "metadata": {},
   "source": [
    "We can also select multiple columns:"
   ]
  },
  {
   "cell_type": "code",
   "execution_count": 249,
   "metadata": {},
   "outputs": [
    {
     "data": {
      "text/html": [
       "<div>\n",
       "<style scoped>\n",
       "    .dataframe tbody tr th:only-of-type {\n",
       "        vertical-align: middle;\n",
       "    }\n",
       "\n",
       "    .dataframe tbody tr th {\n",
       "        vertical-align: top;\n",
       "    }\n",
       "\n",
       "    .dataframe thead th {\n",
       "        text-align: right;\n",
       "    }\n",
       "</style>\n",
       "<table border=\"1\" class=\"dataframe\">\n",
       "  <thead>\n",
       "    <tr style=\"text-align: right;\">\n",
       "      <th></th>\n",
       "      <th>z</th>\n",
       "      <th>L_disk</th>\n",
       "    </tr>\n",
       "  </thead>\n",
       "  <tbody>\n",
       "    <tr>\n",
       "      <th>245</th>\n",
       "      <td>0.02</td>\n",
       "      <td>1.580000e+42</td>\n",
       "    </tr>\n",
       "    <tr>\n",
       "      <th>166</th>\n",
       "      <td>0.03</td>\n",
       "      <td>3.980000e+43</td>\n",
       "    </tr>\n",
       "    <tr>\n",
       "      <th>239</th>\n",
       "      <td>0.03</td>\n",
       "      <td>1.700000e+43</td>\n",
       "    </tr>\n",
       "    <tr>\n",
       "      <th>171</th>\n",
       "      <td>0.04</td>\n",
       "      <td>3.310000e+42</td>\n",
       "    </tr>\n",
       "    <tr>\n",
       "      <th>276</th>\n",
       "      <td>0.05</td>\n",
       "      <td>1.910000e+43</td>\n",
       "    </tr>\n",
       "  </tbody>\n",
       "</table>\n",
       "</div>"
      ],
      "text/plain": [
       "        z        L_disk\n",
       "245  0.02  1.580000e+42\n",
       "166  0.03  3.980000e+43\n",
       "239  0.03  1.700000e+43\n",
       "171  0.04  3.310000e+42\n",
       "276  0.05  1.910000e+43"
      ]
     },
     "execution_count": 249,
     "metadata": {},
     "output_type": "execute_result"
    }
   ],
   "source": [
    "df[['z','L_disk']].head()"
   ]
  },
  {
   "cell_type": "markdown",
   "metadata": {},
   "source": [
    "A dataframe can also be created from numpy arrays, interpreted as columns:"
   ]
  },
  {
   "cell_type": "code",
   "execution_count": 225,
   "metadata": {},
   "outputs": [
    {
     "data": {
      "text/html": [
       "<div>\n",
       "<style scoped>\n",
       "    .dataframe tbody tr th:only-of-type {\n",
       "        vertical-align: middle;\n",
       "    }\n",
       "\n",
       "    .dataframe tbody tr th {\n",
       "        vertical-align: top;\n",
       "    }\n",
       "\n",
       "    .dataframe thead th {\n",
       "        text-align: right;\n",
       "    }\n",
       "</style>\n",
       "<table border=\"1\" class=\"dataframe\">\n",
       "  <thead>\n",
       "    <tr style=\"text-align: right;\">\n",
       "      <th></th>\n",
       "      <th>B</th>\n",
       "      <th>u_B</th>\n",
       "    </tr>\n",
       "  </thead>\n",
       "  <tbody>\n",
       "    <tr>\n",
       "      <th>0</th>\n",
       "      <td>2.2</td>\n",
       "      <td>0.192577</td>\n",
       "    </tr>\n",
       "    <tr>\n",
       "      <th>1</th>\n",
       "      <td>1.4</td>\n",
       "      <td>0.077986</td>\n",
       "    </tr>\n",
       "  </tbody>\n",
       "</table>\n",
       "</div>"
      ],
      "text/plain": [
       "     B       u_B\n",
       "0  2.2  0.192577\n",
       "1  1.4  0.077986"
      ]
     },
     "execution_count": 225,
     "metadata": {},
     "output_type": "execute_result"
    }
   ],
   "source": [
    "temp_dictionary = {\"B\" : b_array,\n",
    "                   \"u_B\" : magdensity_array}\n",
    "simplified_df = pd.DataFrame(temp_dictionary)\n",
    "simplified_df.head(2)"
   ]
  },
  {
   "cell_type": "code",
   "execution_count": 226,
   "metadata": {},
   "outputs": [
    {
     "data": {
      "text/html": [
       "<div>\n",
       "<style scoped>\n",
       "    .dataframe tbody tr th:only-of-type {\n",
       "        vertical-align: middle;\n",
       "    }\n",
       "\n",
       "    .dataframe tbody tr th {\n",
       "        vertical-align: top;\n",
       "    }\n",
       "\n",
       "    .dataframe thead th {\n",
       "        text-align: right;\n",
       "    }\n",
       "</style>\n",
       "<table border=\"1\" class=\"dataframe\">\n",
       "  <thead>\n",
       "    <tr style=\"text-align: right;\">\n",
       "      <th></th>\n",
       "      <th>u_B</th>\n",
       "    </tr>\n",
       "  </thead>\n",
       "  <tbody>\n",
       "    <tr>\n",
       "      <th>0</th>\n",
       "      <td>0.192577</td>\n",
       "    </tr>\n",
       "    <tr>\n",
       "      <th>1</th>\n",
       "      <td>0.077986</td>\n",
       "    </tr>\n",
       "    <tr>\n",
       "      <th>2</th>\n",
       "      <td>0.101859</td>\n",
       "    </tr>\n",
       "    <tr>\n",
       "      <th>3</th>\n",
       "      <td>0.159155</td>\n",
       "    </tr>\n",
       "    <tr>\n",
       "      <th>4</th>\n",
       "      <td>0.192577</td>\n",
       "    </tr>\n",
       "  </tbody>\n",
       "</table>\n",
       "</div>"
      ],
      "text/plain": [
       "        u_B\n",
       "0  0.192577\n",
       "1  0.077986\n",
       "2  0.101859\n",
       "3  0.159155\n",
       "4  0.192577"
      ]
     },
     "execution_count": 226,
     "metadata": {},
     "output_type": "execute_result"
    }
   ],
   "source": [
    "# Remove (\"drop\") a column\n",
    "more_simplified_df = simplified_df.drop(columns=[\"B\"])\n",
    "more_simplified_df.head()"
   ]
  },
  {
   "cell_type": "markdown",
   "metadata": {},
   "source": [
    "## Working with rows"
   ]
  },
  {
   "cell_type": "code",
   "execution_count": 345,
   "metadata": {},
   "outputs": [
    {
     "data": {
      "text/html": [
       "<div>\n",
       "<style scoped>\n",
       "    .dataframe tbody tr th:only-of-type {\n",
       "        vertical-align: middle;\n",
       "    }\n",
       "\n",
       "    .dataframe tbody tr th {\n",
       "        vertical-align: top;\n",
       "    }\n",
       "\n",
       "    .dataframe thead th {\n",
       "        text-align: right;\n",
       "    }\n",
       "</style>\n",
       "<table border=\"1\" class=\"dataframe\">\n",
       "  <thead>\n",
       "    <tr style=\"text-align: right;\">\n",
       "      <th></th>\n",
       "      <th>coord</th>\n",
       "      <th>z</th>\n",
       "      <th>M_black_hole</th>\n",
       "      <th>L_disk</th>\n",
       "      <th>magfield</th>\n",
       "      <th>sigma</th>\n",
       "    </tr>\n",
       "  </thead>\n",
       "  <tbody>\n",
       "    <tr>\n",
       "      <th>245</th>\n",
       "      <td>1725.0+1152</td>\n",
       "      <td>0.02</td>\n",
       "      <td>501000000.0</td>\n",
       "      <td>1.580000e+42</td>\n",
       "      <td>0.1</td>\n",
       "      <td>0.632911</td>\n",
       "    </tr>\n",
       "    <tr>\n",
       "      <th>166</th>\n",
       "      <td>1104.4+3812</td>\n",
       "      <td>0.03</td>\n",
       "      <td>501000000.0</td>\n",
       "      <td>3.980000e+43</td>\n",
       "      <td>0.4</td>\n",
       "      <td>0.402010</td>\n",
       "    </tr>\n",
       "    <tr>\n",
       "      <th>239</th>\n",
       "      <td>1653.9+3945</td>\n",
       "      <td>0.03</td>\n",
       "      <td>501000000.0</td>\n",
       "      <td>1.700000e+43</td>\n",
       "      <td>0.1</td>\n",
       "      <td>0.058824</td>\n",
       "    </tr>\n",
       "    <tr>\n",
       "      <th>171</th>\n",
       "      <td>1136.6+7009</td>\n",
       "      <td>0.04</td>\n",
       "      <td>100000000.0</td>\n",
       "      <td>3.310000e+42</td>\n",
       "      <td>0.7</td>\n",
       "      <td>14.803625</td>\n",
       "    </tr>\n",
       "    <tr>\n",
       "      <th>276</th>\n",
       "      <td>2000.0+6509</td>\n",
       "      <td>0.05</td>\n",
       "      <td>501000000.0</td>\n",
       "      <td>1.910000e+43</td>\n",
       "      <td>0.5</td>\n",
       "      <td>1.308901</td>\n",
       "    </tr>\n",
       "  </tbody>\n",
       "</table>\n",
       "</div>"
      ],
      "text/plain": [
       "           coord     z  M_black_hole        L_disk  magfield      sigma\n",
       "245  1725.0+1152  0.02   501000000.0  1.580000e+42       0.1   0.632911\n",
       "166  1104.4+3812  0.03   501000000.0  3.980000e+43       0.4   0.402010\n",
       "239  1653.9+3945  0.03   501000000.0  1.700000e+43       0.1   0.058824\n",
       "171  1136.6+7009  0.04   100000000.0  3.310000e+42       0.7  14.803625\n",
       "276  2000.0+6509  0.05   501000000.0  1.910000e+43       0.5   1.308901"
      ]
     },
     "execution_count": 345,
     "metadata": {},
     "output_type": "execute_result"
    }
   ],
   "source": [
    "df.head()"
   ]
  },
  {
   "cell_type": "code",
   "execution_count": 336,
   "metadata": {},
   "outputs": [
    {
     "name": "stdout",
     "output_type": "stream",
     "text": [
      "coord                                                 1040.7+0614\n",
      "z                                                            1.26\n",
      "M_black_hole                                         1000000000.0\n",
      "L_disk          60300000000000005240052764885508514749681238016.0\n",
      "magfield                                                      2.2\n",
      "sigma                                                    0.008027\n",
      "Name: 4, dtype: object\n"
     ]
    }
   ],
   "source": [
    "fifth_row = df.loc[4] # Locate and select 5th row\n",
    "print(fifth_row)"
   ]
  },
  {
   "cell_type": "markdown",
   "metadata": {},
   "source": [
    "What can we do with individual rows?"
   ]
  },
  {
   "cell_type": "code",
   "execution_count": 199,
   "metadata": {},
   "outputs": [
    {
     "name": "stdout",
     "output_type": "stream",
     "text": [
      "Coordinates: 1040.7+0614\n",
      "Coordinates: 1040.7+0614\n",
      "Row as a numpy array: ['1040.7+0614' 1.26 1000000000.0 6.030000000000001e+46 2.2\n",
      " 0.19257748114119339]\n"
     ]
    }
   ],
   "source": [
    "print(\"Coordinates:\", df.loc[4][0])       # get the values by indexing with integers\n",
    "\n",
    "print(\"Coordinates:\", df.loc[4]['coord']) # get the values by indexing withcolumn names\n",
    "\n",
    "\n",
    "myarray = np.array(df.loc[4]) # transform them into numpy arrays\n",
    "print(\"Row as a numpy array:\", myarray)\n"
   ]
  },
  {
   "cell_type": "markdown",
   "metadata": {},
   "source": [
    "`loc[4]` locates the row *labeled* `4` (by default, rows are labeled with integers starting from 0).\n",
    "\n",
    "In this case, this corresponds to the row with index 4, which we can get with `iloc`:"
   ]
  },
  {
   "cell_type": "code",
   "execution_count": 202,
   "metadata": {},
   "outputs": [
    {
     "data": {
      "text/plain": [
       "coord                                                 1040.7+0614\n",
       "z                                                            1.26\n",
       "M_black_hole                                         1000000000.0\n",
       "L_disk          60300000000000005240052764885508514749681238016.0\n",
       "magfield                                                      2.2\n",
       "mag_density                                              0.192577\n",
       "Name: 4, dtype: object"
      ]
     },
     "execution_count": 202,
     "metadata": {},
     "output_type": "execute_result"
    }
   ],
   "source": [
    "df.iloc[4]"
   ]
  },
  {
   "cell_type": "markdown",
   "metadata": {},
   "source": [
    "But this isn't always the case. Let's reorder the rows in the table:"
   ]
  },
  {
   "cell_type": "code",
   "execution_count": 227,
   "metadata": {},
   "outputs": [
    {
     "data": {
      "text/html": [
       "<div>\n",
       "<style scoped>\n",
       "    .dataframe tbody tr th:only-of-type {\n",
       "        vertical-align: middle;\n",
       "    }\n",
       "\n",
       "    .dataframe tbody tr th {\n",
       "        vertical-align: top;\n",
       "    }\n",
       "\n",
       "    .dataframe thead th {\n",
       "        text-align: right;\n",
       "    }\n",
       "</style>\n",
       "<table border=\"1\" class=\"dataframe\">\n",
       "  <thead>\n",
       "    <tr style=\"text-align: right;\">\n",
       "      <th></th>\n",
       "      <th>coord</th>\n",
       "      <th>z</th>\n",
       "      <th>M_black_hole</th>\n",
       "      <th>L_disk</th>\n",
       "      <th>magfield</th>\n",
       "    </tr>\n",
       "  </thead>\n",
       "  <tbody>\n",
       "    <tr>\n",
       "      <th>245</th>\n",
       "      <td>1725.0+1152</td>\n",
       "      <td>0.02</td>\n",
       "      <td>501000000.0</td>\n",
       "      <td>1.580000e+42</td>\n",
       "      <td>0.1</td>\n",
       "    </tr>\n",
       "    <tr>\n",
       "      <th>166</th>\n",
       "      <td>1104.4+3812</td>\n",
       "      <td>0.03</td>\n",
       "      <td>501000000.0</td>\n",
       "      <td>3.980000e+43</td>\n",
       "      <td>0.4</td>\n",
       "    </tr>\n",
       "    <tr>\n",
       "      <th>239</th>\n",
       "      <td>1653.9+3945</td>\n",
       "      <td>0.03</td>\n",
       "      <td>501000000.0</td>\n",
       "      <td>1.700000e+43</td>\n",
       "      <td>0.1</td>\n",
       "    </tr>\n",
       "    <tr>\n",
       "      <th>171</th>\n",
       "      <td>1136.6+7009</td>\n",
       "      <td>0.04</td>\n",
       "      <td>100000000.0</td>\n",
       "      <td>3.310000e+42</td>\n",
       "      <td>0.7</td>\n",
       "    </tr>\n",
       "    <tr>\n",
       "      <th>276</th>\n",
       "      <td>2000.0+6509</td>\n",
       "      <td>0.05</td>\n",
       "      <td>501000000.0</td>\n",
       "      <td>1.910000e+43</td>\n",
       "      <td>0.5</td>\n",
       "    </tr>\n",
       "  </tbody>\n",
       "</table>\n",
       "</div>"
      ],
      "text/plain": [
       "           coord     z  M_black_hole        L_disk  magfield\n",
       "245  1725.0+1152  0.02   501000000.0  1.580000e+42       0.1\n",
       "166  1104.4+3812  0.03   501000000.0  3.980000e+43       0.4\n",
       "239  1653.9+3945  0.03   501000000.0  1.700000e+43       0.1\n",
       "171  1136.6+7009  0.04   100000000.0  3.310000e+42       0.7\n",
       "276  2000.0+6509  0.05   501000000.0  1.910000e+43       0.5"
      ]
     },
     "execution_count": 227,
     "metadata": {},
     "output_type": "execute_result"
    }
   ],
   "source": [
    "df_sorted = df.sort_values('z')\n",
    "df_sorted.head()"
   ]
  },
  {
   "cell_type": "code",
   "execution_count": 392,
   "metadata": {},
   "outputs": [
    {
     "data": {
      "text/plain": [
       "RangeIndex(start=0, stop=320, step=1)"
      ]
     },
     "execution_count": 392,
     "metadata": {},
     "output_type": "execute_result"
    }
   ],
   "source": [
    "df.index"
   ]
  },
  {
   "cell_type": "code",
   "execution_count": 394,
   "metadata": {},
   "outputs": [
    {
     "data": {
      "text/plain": [
       "Int64Index([245, 166, 239, 171, 276, 220, 259, 247, 279,  42,\n",
       "            ...\n",
       "            161,  76, 132,  49, 127, 254,  64, 113,  88,   7],\n",
       "           dtype='int64', length=320)"
      ]
     },
     "execution_count": 394,
     "metadata": {},
     "output_type": "execute_result"
    }
   ],
   "source": [
    "df_sorted.index"
   ]
  },
  {
   "cell_type": "code",
   "execution_count": 395,
   "metadata": {},
   "outputs": [
    {
     "data": {
      "text/plain": [
       "coord                                             1725.0+1152\n",
       "z                                                        0.02\n",
       "M_black_hole                                      501000000.0\n",
       "L_disk          1580000000000000098773076915281004706398208.0\n",
       "magfield                                                  0.1\n",
       "Name: 245, dtype: object"
      ]
     },
     "execution_count": 395,
     "metadata": {},
     "output_type": "execute_result"
    }
   ],
   "source": [
    "df_sorted.loc[245]"
   ]
  },
  {
   "cell_type": "code",
   "execution_count": 396,
   "metadata": {},
   "outputs": [
    {
     "data": {
      "text/plain": [
       "coord                                             1725.0+1152\n",
       "z                                                        0.02\n",
       "M_black_hole                                      501000000.0\n",
       "L_disk          1580000000000000098773076915281004706398208.0\n",
       "magfield                                                  0.1\n",
       "Name: 245, dtype: object"
      ]
     },
     "execution_count": 396,
     "metadata": {},
     "output_type": "execute_result"
    }
   ],
   "source": [
    "df_sorted.iloc[0]"
   ]
  },
  {
   "cell_type": "markdown",
   "metadata": {},
   "source": [
    "`loc` can give you ranges and can be used simultaneously for rows and columns: "
   ]
  },
  {
   "cell_type": "code",
   "execution_count": 343,
   "metadata": {},
   "outputs": [
    {
     "data": {
      "text/html": [
       "<div>\n",
       "<style scoped>\n",
       "    .dataframe tbody tr th:only-of-type {\n",
       "        vertical-align: middle;\n",
       "    }\n",
       "\n",
       "    .dataframe tbody tr th {\n",
       "        vertical-align: top;\n",
       "    }\n",
       "\n",
       "    .dataframe thead th {\n",
       "        text-align: right;\n",
       "    }\n",
       "</style>\n",
       "<table border=\"1\" class=\"dataframe\">\n",
       "  <thead>\n",
       "    <tr style=\"text-align: right;\">\n",
       "      <th></th>\n",
       "      <th>z</th>\n",
       "      <th>M_black_hole</th>\n",
       "      <th>L_disk</th>\n",
       "    </tr>\n",
       "  </thead>\n",
       "  <tbody>\n",
       "    <tr>\n",
       "      <th>245</th>\n",
       "      <td>0.02</td>\n",
       "      <td>501000000.0</td>\n",
       "      <td>1.580000e+42</td>\n",
       "    </tr>\n",
       "    <tr>\n",
       "      <th>166</th>\n",
       "      <td>0.03</td>\n",
       "      <td>501000000.0</td>\n",
       "      <td>3.980000e+43</td>\n",
       "    </tr>\n",
       "    <tr>\n",
       "      <th>239</th>\n",
       "      <td>0.03</td>\n",
       "      <td>501000000.0</td>\n",
       "      <td>1.700000e+43</td>\n",
       "    </tr>\n",
       "    <tr>\n",
       "      <th>171</th>\n",
       "      <td>0.04</td>\n",
       "      <td>100000000.0</td>\n",
       "      <td>3.310000e+42</td>\n",
       "    </tr>\n",
       "  </tbody>\n",
       "</table>\n",
       "</div>"
      ],
      "text/plain": [
       "        z  M_black_hole        L_disk\n",
       "245  0.02   501000000.0  1.580000e+42\n",
       "166  0.03   501000000.0  3.980000e+43\n",
       "239  0.03   501000000.0  1.700000e+43\n",
       "171  0.04   100000000.0  3.310000e+42"
      ]
     },
     "execution_count": 343,
     "metadata": {},
     "output_type": "execute_result"
    }
   ],
   "source": [
    "df_sorted.loc[245:171, 'z':'L_disk']"
   ]
  },
  {
   "cell_type": "markdown",
   "metadata": {},
   "source": [
    "Note how in this case, `245:171` doesn't have the usual meaning of \"all integers between the two endpoints\", but just \"all rows between the row labeled `245` and that labeled `171`\""
   ]
  },
  {
   "cell_type": "markdown",
   "metadata": {},
   "source": [
    "#### `loc` is extremely flexible and allows for all the numpy syntax you're used to.\n",
    "\n",
    "Let's select all sources with redshift $z>2$:"
   ]
  },
  {
   "cell_type": "code",
   "execution_count": 372,
   "metadata": {},
   "outputs": [
    {
     "data": {
      "text/html": [
       "<div>\n",
       "<style scoped>\n",
       "    .dataframe tbody tr th:only-of-type {\n",
       "        vertical-align: middle;\n",
       "    }\n",
       "\n",
       "    .dataframe tbody tr th {\n",
       "        vertical-align: top;\n",
       "    }\n",
       "\n",
       "    .dataframe thead th {\n",
       "        text-align: right;\n",
       "    }\n",
       "</style>\n",
       "<table border=\"1\" class=\"dataframe\">\n",
       "  <thead>\n",
       "    <tr style=\"text-align: right;\">\n",
       "      <th></th>\n",
       "      <th>coord</th>\n",
       "      <th>z</th>\n",
       "      <th>M_black_hole</th>\n",
       "      <th>L_disk</th>\n",
       "      <th>magfield</th>\n",
       "      <th>sigma</th>\n",
       "    </tr>\n",
       "  </thead>\n",
       "  <tbody>\n",
       "    <tr>\n",
       "      <th>84</th>\n",
       "      <td>0516.7-6207</td>\n",
       "      <td>2.02</td>\n",
       "      <td>1.700000e+08</td>\n",
       "      <td>2.190000e+45</td>\n",
       "      <td>1.8</td>\n",
       "      <td>0.147945</td>\n",
       "    </tr>\n",
       "    <tr>\n",
       "      <th>73</th>\n",
       "      <td>0438.8-4519</td>\n",
       "      <td>2.02</td>\n",
       "      <td>7.080000e+08</td>\n",
       "      <td>9.120000e+45</td>\n",
       "      <td>1.3</td>\n",
       "      <td>0.018531</td>\n",
       "    </tr>\n",
       "    <tr>\n",
       "      <th>93</th>\n",
       "      <td>0626.0-5436</td>\n",
       "      <td>2.05</td>\n",
       "      <td>6.030000e+08</td>\n",
       "      <td>3.020000e+46</td>\n",
       "      <td>2.0</td>\n",
       "      <td>0.013245</td>\n",
       "    </tr>\n",
       "    <tr>\n",
       "      <th>58</th>\n",
       "      <td>0325.5+2223</td>\n",
       "      <td>2.07</td>\n",
       "      <td>6.030000e+08</td>\n",
       "      <td>3.020000e+46</td>\n",
       "      <td>3.2</td>\n",
       "      <td>0.033907</td>\n",
       "    </tr>\n",
       "    <tr>\n",
       "      <th>86</th>\n",
       "      <td>0530.8+1330</td>\n",
       "      <td>2.07</td>\n",
       "      <td>1.000000e+09</td>\n",
       "      <td>1.820000e+47</td>\n",
       "      <td>2.0</td>\n",
       "      <td>0.002198</td>\n",
       "    </tr>\n",
       "  </tbody>\n",
       "</table>\n",
       "</div>"
      ],
      "text/plain": [
       "          coord     z  M_black_hole        L_disk  magfield     sigma\n",
       "84  0516.7-6207  2.02  1.700000e+08  2.190000e+45       1.8  0.147945\n",
       "73  0438.8-4519  2.02  7.080000e+08  9.120000e+45       1.3  0.018531\n",
       "93  0626.0-5436  2.05  6.030000e+08  3.020000e+46       2.0  0.013245\n",
       "58  0325.5+2223  2.07  6.030000e+08  3.020000e+46       3.2  0.033907\n",
       "86  0530.8+1330  2.07  1.000000e+09  1.820000e+47       2.0  0.002198"
      ]
     },
     "execution_count": 372,
     "metadata": {},
     "output_type": "execute_result"
    }
   ],
   "source": [
    "df.loc[df['z'] > 2].head()"
   ]
  },
  {
   "cell_type": "markdown",
   "metadata": {},
   "source": [
    "## Think-pair-share:\n",
    "\n",
    "#### Consider the dimensionless quantity\n",
    "\n",
    "$$\n",
    "\\sigma \\equiv \\frac{u_B}{u_\\gamma} \\approx 10^{44}\\frac{B^2}{L_\\mathrm{disk}}\n",
    "$$\n",
    "\n",
    "#### (in CGS units, as given in our table).\n",
    "\n",
    "#### **Use our dataframe to find the coordinates of the 5 sources with highest values of $\\sigma$**."
   ]
  },
  {
   "cell_type": "code",
   "execution_count": 303,
   "metadata": {},
   "outputs": [
    {
     "name": "stdout",
     "output_type": "stream",
     "text": [
      "Min sigma: 0.001\n",
      "Max sigma: 87.113\n"
     ]
    }
   ],
   "source": [
    "sigma = 1e44 * df['magfield'] ** 2 /  df['L_disk'] # First, we calculate an array of sigmas\n",
    "\n",
    "print(f\"Min sigma: {sigma.min():.3f}\")             # ... and check if the values make sense\n",
    "print(f\"Max sigma: {sigma.max():.3f}\")"
   ]
  },
  {
   "cell_type": "code",
   "execution_count": 305,
   "metadata": {},
   "outputs": [
    {
     "data": {
      "text/html": [
       "<div>\n",
       "<style scoped>\n",
       "    .dataframe tbody tr th:only-of-type {\n",
       "        vertical-align: middle;\n",
       "    }\n",
       "\n",
       "    .dataframe tbody tr th {\n",
       "        vertical-align: top;\n",
       "    }\n",
       "\n",
       "    .dataframe thead th {\n",
       "        text-align: right;\n",
       "    }\n",
       "</style>\n",
       "<table border=\"1\" class=\"dataframe\">\n",
       "  <thead>\n",
       "    <tr style=\"text-align: right;\">\n",
       "      <th></th>\n",
       "      <th>coord</th>\n",
       "      <th>z</th>\n",
       "      <th>M_black_hole</th>\n",
       "      <th>L_disk</th>\n",
       "      <th>magfield</th>\n",
       "      <th>sigma</th>\n",
       "    </tr>\n",
       "  </thead>\n",
       "  <tbody>\n",
       "    <tr>\n",
       "      <th>171</th>\n",
       "      <td>1136.6+7009</td>\n",
       "      <td>0.04</td>\n",
       "      <td>100000000.0</td>\n",
       "      <td>3.310000e+42</td>\n",
       "      <td>0.7</td>\n",
       "      <td>14.803625</td>\n",
       "    </tr>\n",
       "    <tr>\n",
       "      <th>266</th>\n",
       "      <td>1902.9-6745</td>\n",
       "      <td>0.25</td>\n",
       "      <td>200000000.0</td>\n",
       "      <td>7.080000e+43</td>\n",
       "      <td>3.5</td>\n",
       "      <td>17.302260</td>\n",
       "    </tr>\n",
       "    <tr>\n",
       "      <th>220</th>\n",
       "      <td>1517.6-2422</td>\n",
       "      <td>0.05</td>\n",
       "      <td>501000000.0</td>\n",
       "      <td>1.510000e+43</td>\n",
       "      <td>2.1</td>\n",
       "      <td>29.205298</td>\n",
       "    </tr>\n",
       "    <tr>\n",
       "      <th>42</th>\n",
       "      <td>0217.2+0837</td>\n",
       "      <td>0.09</td>\n",
       "      <td>501000000.0</td>\n",
       "      <td>1.200000e+43</td>\n",
       "      <td>2.0</td>\n",
       "      <td>33.333333</td>\n",
       "    </tr>\n",
       "    <tr>\n",
       "      <th>259</th>\n",
       "      <td>1806.7+6949</td>\n",
       "      <td>0.05</td>\n",
       "      <td>22900000.0</td>\n",
       "      <td>7.760000e+42</td>\n",
       "      <td>2.6</td>\n",
       "      <td>87.113402</td>\n",
       "    </tr>\n",
       "  </tbody>\n",
       "</table>\n",
       "</div>"
      ],
      "text/plain": [
       "           coord     z  M_black_hole        L_disk  magfield      sigma\n",
       "171  1136.6+7009  0.04   100000000.0  3.310000e+42       0.7  14.803625\n",
       "266  1902.9-6745  0.25   200000000.0  7.080000e+43       3.5  17.302260\n",
       "220  1517.6-2422  0.05   501000000.0  1.510000e+43       2.1  29.205298\n",
       "42   0217.2+0837  0.09   501000000.0  1.200000e+43       2.0  33.333333\n",
       "259  1806.7+6949  0.05    22900000.0  7.760000e+42       2.6  87.113402"
      ]
     },
     "execution_count": 305,
     "metadata": {},
     "output_type": "execute_result"
    }
   ],
   "source": [
    "df['sigma'] = sigma # Then we add the new column to our dataframe \n",
    "highest_sigma = df.sort_values('sigma').iloc[-5:]\n",
    "highest_sigma.head()"
   ]
  },
  {
   "cell_type": "code",
   "execution_count": 307,
   "metadata": {},
   "outputs": [
    {
     "data": {
      "text/html": [
       "<div>\n",
       "<style scoped>\n",
       "    .dataframe tbody tr th:only-of-type {\n",
       "        vertical-align: middle;\n",
       "    }\n",
       "\n",
       "    .dataframe tbody tr th {\n",
       "        vertical-align: top;\n",
       "    }\n",
       "\n",
       "    .dataframe thead th {\n",
       "        text-align: right;\n",
       "    }\n",
       "</style>\n",
       "<table border=\"1\" class=\"dataframe\">\n",
       "  <thead>\n",
       "    <tr style=\"text-align: right;\">\n",
       "      <th></th>\n",
       "      <th>coord</th>\n",
       "      <th>z</th>\n",
       "      <th>M_black_hole</th>\n",
       "      <th>L_disk</th>\n",
       "      <th>magfield</th>\n",
       "      <th>sigma</th>\n",
       "    </tr>\n",
       "  </thead>\n",
       "  <tbody>\n",
       "    <tr>\n",
       "      <th>259</th>\n",
       "      <td>1806.7+6949</td>\n",
       "      <td>0.05</td>\n",
       "      <td>22900000.0</td>\n",
       "      <td>7.760000e+42</td>\n",
       "      <td>2.6</td>\n",
       "      <td>87.113402</td>\n",
       "    </tr>\n",
       "    <tr>\n",
       "      <th>42</th>\n",
       "      <td>0217.2+0837</td>\n",
       "      <td>0.09</td>\n",
       "      <td>501000000.0</td>\n",
       "      <td>1.200000e+43</td>\n",
       "      <td>2.0</td>\n",
       "      <td>33.333333</td>\n",
       "    </tr>\n",
       "    <tr>\n",
       "      <th>220</th>\n",
       "      <td>1517.6-2422</td>\n",
       "      <td>0.05</td>\n",
       "      <td>501000000.0</td>\n",
       "      <td>1.510000e+43</td>\n",
       "      <td>2.1</td>\n",
       "      <td>29.205298</td>\n",
       "    </tr>\n",
       "    <tr>\n",
       "      <th>266</th>\n",
       "      <td>1902.9-6745</td>\n",
       "      <td>0.25</td>\n",
       "      <td>200000000.0</td>\n",
       "      <td>7.080000e+43</td>\n",
       "      <td>3.5</td>\n",
       "      <td>17.302260</td>\n",
       "    </tr>\n",
       "    <tr>\n",
       "      <th>171</th>\n",
       "      <td>1136.6+7009</td>\n",
       "      <td>0.04</td>\n",
       "      <td>100000000.0</td>\n",
       "      <td>3.310000e+42</td>\n",
       "      <td>0.7</td>\n",
       "      <td>14.803625</td>\n",
       "    </tr>\n",
       "  </tbody>\n",
       "</table>\n",
       "</div>"
      ],
      "text/plain": [
       "           coord     z  M_black_hole        L_disk  magfield      sigma\n",
       "259  1806.7+6949  0.05    22900000.0  7.760000e+42       2.6  87.113402\n",
       "42   0217.2+0837  0.09   501000000.0  1.200000e+43       2.0  33.333333\n",
       "220  1517.6-2422  0.05   501000000.0  1.510000e+43       2.1  29.205298\n",
       "266  1902.9-6745  0.25   200000000.0  7.080000e+43       3.5  17.302260\n",
       "171  1136.6+7009  0.04   100000000.0  3.310000e+42       0.7  14.803625"
      ]
     },
     "execution_count": 307,
     "metadata": {},
     "output_type": "execute_result"
    }
   ],
   "source": [
    "# or...\n",
    "highest_sigma = df.sort_values('sigma')[::-1].iloc[:5]\n",
    "highest_sigma.head()"
   ]
  },
  {
   "cell_type": "code",
   "execution_count": 308,
   "metadata": {},
   "outputs": [
    {
     "data": {
      "text/plain": [
       "['1806.7+6949', '0217.2+0837', '1517.6-2422', '1902.9-6745', '1136.6+7009']"
      ]
     },
     "execution_count": 308,
     "metadata": {},
     "output_type": "execute_result"
    }
   ],
   "source": [
    "# Finally, the task was to get the source coordinates:\n",
    "list(highest_sigma['coord'])"
   ]
  },
  {
   "cell_type": "markdown",
   "metadata": {},
   "source": [
    "#### You also have a one-line solution (feel free to work through it):"
   ]
  },
  {
   "cell_type": "code",
   "execution_count": 351,
   "metadata": {},
   "outputs": [
    {
     "data": {
      "text/plain": [
       "['1806.7+6949', '0217.2+0837', '1517.6-2422', '1902.9-6745', '1136.6+7009']"
      ]
     },
     "execution_count": 351,
     "metadata": {},
     "output_type": "execute_result"
    }
   ],
   "source": [
    "list(df['coord'][sigma.sort_values()[::-1].iloc[:5].index]) # use these indices to index your dataframe"
   ]
  }
 ],
 "metadata": {
  "kernelspec": {
   "display_name": "Python 3",
   "language": "python",
   "name": "python3"
  },
  "language_info": {
   "codemirror_mode": {
    "name": "ipython",
    "version": 3
   },
   "file_extension": ".py",
   "mimetype": "text/x-python",
   "name": "python",
   "nbconvert_exporter": "python",
   "pygments_lexer": "ipython3",
   "version": "3.9.12"
  }
 },
 "nbformat": 4,
 "nbformat_minor": 4
}
