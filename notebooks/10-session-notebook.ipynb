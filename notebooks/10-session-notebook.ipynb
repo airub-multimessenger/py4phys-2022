{
 "cells": [
  {
   "cell_type": "markdown",
   "id": "65964837",
   "metadata": {},
   "source": [
    "# Fitting and optimization\n",
    "### 20/01/2023"
   ]
  },
  {
   "cell_type": "code",
   "execution_count": 4,
   "id": "29b6896d-8fd5-48b6-9325-269922d6763e",
   "metadata": {},
   "outputs": [],
   "source": [
    "import numpy as np\n",
    "import matplotlib.pyplot as plt"
   ]
  },
  {
   "cell_type": "code",
   "execution_count": 5,
   "id": "c63ef27e-7632-450e-a087-bb21f94df0c7",
   "metadata": {},
   "outputs": [],
   "source": [
    "xdata = np.array([ -10.0, -9.0, -8.0, -7.0, -6.0, -5.0, -4.0, -3.0, -2.0, -1.0, 0.0, 1.0, 2.0, 3.0, 4.0, 5.0, 6.0, 7.0, 8.0, 9.0, 10.0])\n",
    "ydata = np.array([1.2, 4.2, 5.2, 8.3, 10.6, 11.7, 13.5, 14.5, 15.7, 16.1, 16.6, 16.0, 15.4, 14.4, 14.2, 12.7, 10.3, 8.6, 6.1, 4.9, 2.1])"
   ]
  },
  {
   "cell_type": "code",
   "execution_count": null,
   "id": "36a3808b-aa0f-4c9b-8696-b14b72e6262a",
   "metadata": {},
   "outputs": [],
   "source": []
  }
 ],
 "metadata": {
  "kernelspec": {
   "display_name": "Python 3",
   "language": "python",
   "name": "python3"
  },
  "language_info": {
   "codemirror_mode": {
    "name": "ipython",
    "version": 3
   },
   "file_extension": ".py",
   "mimetype": "text/x-python",
   "name": "python",
   "nbconvert_exporter": "python",
   "pygments_lexer": "ipython3",
   "version": "3.9.12"
  }
 },
 "nbformat": 4,
 "nbformat_minor": 5
}
